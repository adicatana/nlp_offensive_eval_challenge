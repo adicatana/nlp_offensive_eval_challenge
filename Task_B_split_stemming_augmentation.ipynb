{
  "nbformat": 4,
  "nbformat_minor": 0,
  "metadata": {
    "colab": {
      "name": "Task_B_split_stemming_augmentation.ipynb",
      "version": "0.3.2",
      "provenance": [],
      "collapsed_sections": []
    },
    "kernelspec": {
      "display_name": "Python 3",
      "language": "python",
      "name": "python3"
    },
    "accelerator": "GPU"
  },
  "cells": [
    {
      "metadata": {
        "colab_type": "code",
        "id": "udvQ3c7aGX1g",
        "outputId": "da90ad72-d94b-4e70-8737-76d683e8707d",
        "colab": {
          "base_uri": "https://localhost:8080/",
          "height": 156
        }
      },
      "cell_type": "code",
      "source": [
        "# Loading packages\n",
        "!pip install nltk\n",
        "\n",
        "exec(open('utilities_cw.py').read())\n",
        "\n",
        "# We fix the seeds to get consistent results\n",
        "SEED = 1111\n",
        "torch.manual_seed(SEED)\n",
        "np.random.seed(SEED)\n",
        "random.seed(SEED)"
      ],
      "execution_count": 15,
      "outputs": [
        {
          "output_type": "stream",
          "text": [
            "Requirement already satisfied: nltk in /usr/local/lib/python3.6/dist-packages (3.2.5)\n",
            "Requirement already satisfied: six in /usr/local/lib/python3.6/dist-packages (from nltk) (1.11.0)\n",
            "[nltk_data] Downloading package stopwords to /root/nltk_data...\n",
            "[nltk_data]   Package stopwords is already up-to-date!\n",
            "[nltk_data] Downloading package wordnet to /root/nltk_data...\n",
            "[nltk_data]   Package wordnet is already up-to-date!\n",
            "one.py is being run directly\n"
          ],
          "name": "stdout"
        }
      ]
    },
    {
      "metadata": {
        "colab_type": "code",
        "id": "xpPZHdI4HB34",
        "colab": {}
      },
      "cell_type": "code",
      "source": [
        "from sklearn.model_selection import train_test_split\n",
        "\n",
        "train_file = 'offenseval-training-v1.tsv'\n",
        "\n",
        "# Ratio 1 - OFF, 2 - NOT\n",
        "corpus, labels = parse_dataset_task_b(train_file)"
      ],
      "execution_count": 0,
      "outputs": []
    },
    {
      "metadata": {
        "id": "Nw_mdowjo5-Y",
        "colab_type": "code",
        "colab": {}
      },
      "cell_type": "code",
      "source": [
        "train_corpus, valid_corpus, train_labels, valid_labels = train_test_split(corpus, labels, test_size=0.3, random_state=42)\n",
        "\n",
        "train_corpus, train_labels = augment_untargeted(train_corpus, train_labels, 1600)\n",
        "valid_corpus, valid_labels = augment_untargeted(valid_corpus, valid_labels, 900)"
      ],
      "execution_count": 0,
      "outputs": []
    },
    {
      "metadata": {
        "id": "vqNxsNrMdRSL",
        "colab_type": "code",
        "colab": {}
      },
      "cell_type": "code",
      "source": [
        "tokenize_f = tokenize_stemming"
      ],
      "execution_count": 0,
      "outputs": []
    },
    {
      "metadata": {
        "id": "4yLnOmqbqFvk",
        "colab_type": "code",
        "outputId": "71ca364a-0340-4248-b79a-94558a3c5304",
        "colab": {
          "base_uri": "https://localhost:8080/",
          "height": 34
        }
      },
      "cell_type": "code",
      "source": [
        "tokenized_train_corpus = tokenize_f(train_corpus)\n",
        "print(len(tokenized_train_corpus))"
      ],
      "execution_count": 19,
      "outputs": [
        {
          "output_type": "stream",
          "text": [
            "4680\n"
          ],
          "name": "stdout"
        }
      ]
    },
    {
      "metadata": {
        "colab_type": "code",
        "id": "WPVTr3zmMfpD",
        "outputId": "78510c2f-80d2-43c8-b547-7ca46fe57332",
        "colab": {
          "base_uri": "https://localhost:8080/",
          "height": 71
        }
      },
      "cell_type": "code",
      "source": [
        "vocabulary = get_vocabulary(tokenized_train_corpus)\n",
        "print(vocabulary)\n",
        "print(len(vocabulary))"
      ],
      "execution_count": 20,
      "outputs": [
        {
          "output_type": "stream",
          "text": [
            "['user', 'im', 'save', 'good', 'shitttt', 'anoth', 'falsehood', 'dont', 'think', 'anyon', 'want', 'abolish', '2nd', 'amend', 'grow', 'major', 'sensibl', 'gun', 'control', 'form', 'better', 'background', 'check', 'ban', 'assault', 'rifl', 'trump', 'say', 'anyth', 'rile', 'base', 'snake', 'oil', 'russian', 'spi', 'receiv', 'much', 'money', 'putin', 'incom', 'evil', 'soy', 'conspiraci', 'nut', 'disgrac', 'danger', 'implod', 'remov', 'word', 'mueller', 'constip', 'diarrhea', 'url', 'exactli', 'willi', 'half', 'brain', 'would', 'consid', 'conserv', '', 'guy', 'liter', 'poster', 'child', 'liber', 'lmfaooooo', 'foh', 'w', 'free', 'thought', 'shit', 'lmaoooo', 'win', 'could', 'implement', 'last', 'part', 'plan', 'use', 'guillotin', 'china', 'blade', 'mexico', 'maga', 'lockthemallup', 'confirmkavanaugh', 'wwg1wga', 'patriotsunit', 'godblessamerica', 'godblesstheworld', 'godblessourmilitari', '100thmonkey', 'farright', 'psychopath', 'leader', 'invis', 'press', 'creat', 'catkil', 'excus', 'bring', 'back', 'foxhunt', 'she', 'gone', 'christma', 'animalcruelti', 'toriesout', 'noconfid', 'crimesynd', 'ge2018', 'criminalsoutofnumber10', 'one', 'side', 'white', 'supremacist', 'shouldnt', 'hard', 'wrong', 'stop', 'tri', 'equat', 'antifa', 'make', 'look', 'like', 'disappoint', 'taylor', 'serena', 'gender', 'disrespect', 'apolog', 'winner', 'amp', 'ref', 'hope', 'fuck', 'shut', 'muck', 'raker', 'platform', 'run', 'none', 'cull', 'vulner', 'peopl', 'late', 'decad', 'centuri', 'previou', 'millennium', 'show', 'desper', 'heard', 'theyr', 'loiter', 'around', 'high', 'school', 'rumor', 'sad', 'old', 'ass', 'muppet', '62', '215', 'lb', 'voter', 'puerto', 'rican', 'decent', 'doesnt', 'take', 'bs', '2', 'weird', 'way', 'debat', 'section', '33', 'remind', 'us', 'law', 'allow', 'design', 'kill', 'yet', 'shock', 'assum', 'restrain', 'irrespons', 'sex', 'least', 'know', 'partner', 'benefit', 'snip', 'continu', 'left', 'progress', 'euphem', 'democrat', 'parti', 'own', 'deni', 'ideolog', 'lie', 'public', 'call', 'spade', '10', 'hesh', 'notic', 'mani', 'shitti', 'see', 'smear', 'conservativesrepublican', 'stand', 'women', 'sexual', 'politician', 'your', 'hypocrit', 'need', 'hell', 'told', 'either', 'cooper', 'go', 'prison', 'life', 'executedit', 'come', 'drainthedeepst', 'traitorsal', 'twitter', 'becom', 'tumblr', '2013', 'terrifi', 'ask', 'nativ', 'american', 'media', 'report', 'happen', 'view', 'perhap', 'disappear', 'america', 'imbalanc', 'voic', 'watch', 'rest', 'busi', 'sidewalk', 'poop', 'put', 'hollywood', 'music', 'suck', 'wait', 'buncha', 'braindead', 'redneck', 'burn', 'levi', 'wear', 'get', 'haul', 'er', 'en', 'mass', 'full', 'violent', 'crime', 'declin', 'b', 'problem', 'state', 'local', 'common', 'sens', 'pass', 'feder', 'level', 'fix', 'clueless', 'shitt', 'pitt', 'perfect', 'wipe', 'seat', 'littl', 'known', 'fact', 'balaam', 'race', 'donkey', 'gambl', 'day', 'fastest', 'jerusalem', 'sweepstak', 'right', 'finish', 'lost', 'samaritan', 'two', 'african', 'saw', 'whole', 'thing', 'blame', 'evolut', 'help', 'enact', 'brexit', 'econom', 'social', 'suicid', 'slam', 'manifort', 'worri', 'junior', 'kushner', 'mad', 'cant', 'fire', 'puke', 'bathroom', 'understand', 'asset', 'seizur', 'settl', 'never', 'juri', 'truth', 'mayb', 'grab', 'first', 'swap', 'spit', 'realli', 'stupid', 'doubt', 'ever', 'complet', 'restaur', 'diner', 'fatal', 'shot', 'corpu', 'christi', '357', 'ruger', 'blackhawk', 'revolv', 'nra', 'research', 'uneth', 'yall', 'gonna', 'fight', 'laugh', 'pull', 'shoot', 'hungeri', 'reput', 'schitt', 'away', 'activist', 'vilenin', 'said', 'scoundrel', 'may', 'someon', 'play', 'spiderman', 'kid', 'year', 'idk', 'kinda', 'collect', 'nostalgia', 'web', 'swing', 'mechan', 'bust', 'trash', 'honestli', 'serious', 'delusion', 'fan', 'ottawa', 'educ', 'ppl', 'scari', 'ca', 'alway', 'blue', 'seem', 'except', 'neighbor', 'champagn', 'socialist', 'q', 'photoshop', 'qanon', 'real', 'though', 'silli', 'trick', 'fool', 'speech', 'pornhub', 'irish', 'tweet', 'ireland', 'nuetral', 'wwii', 'bono', 'give', 'nazi', 'saluteyawnnoth', 'new', 'absolut', 'dick', '15', 'probabl', 'pleas', 'tell', 'still', 'jail', 'dead', 'strong', 'woman', 'sorri', 'metoo', 'movement', 'extens', 'kkk', 'hate', 'group', 'lynch', 'oppos', 'agenda', 'jump', 'wagon', 'name', 'justic', 'perpetu', 'bulli', 'threaten', 'expos', 'what', 'detriment', 'countri', 'republican', 'refus', 'govern', 'campaign', 'mcdaniel', 'flaw', 'he', 'kind', 'fighter', 'sick', 'loser', 'gop', 'keep', 'inde', 'ewu', 'wont', 'trade', 'anumanu', 'bafoonicu', 'seen', 'former', 'hierarchi', 'presid', 'youv', 'corrupt', 'guilti', 'abus', 'power', 'darkest', 'time', 'dojcia', 'presidenti', 'cabinet', 'that', 'lmaoo', 'got', 'chanc', 'blew', 'god', 'terribl', 'flank', 'muscl', 'flash', 'ar15', 'close', 'ck', 'holryou', 'r', 'talk', 'cruz', 'slimi', 'piec', 'pervert', 'prime', 'exampl', 'vote', 'beto', 'wow', 'id', 'actual', 'admit', 'unless', 'facist', 'groupsantifa', 'liar', 'even', 'reader', 'paper', 'effect', 'believ', 'accus', 'credibl', 'buddi', 'ns', 'sell', 'fishermen', 'heartbeat', 'line', 'privat', 'sector', 'handout', 'big', 'tie', 'kameron', 'coal', 'care', 'nova', 'scotian', 'health', 'fisheri', 'next', 'drop', 'angri', 'buser', 'routin', 'someth', 'funni', 'everyon', 'enjoylik', 'non', 'polit', 'joke', 'capabl', 'hi', 'sexi', 'h3ll', 'everyday', 'rs', 'lobbyist', 'damn', 'readi', 'elect', '2020', 'till', 'nice', 'hat', 'hey', 'live', 'rent', 'head', 'mcdonald', 'imlovingit', 'sweet', 'reveng', 'tast', 'walkaway', 'dictionari', 'illeg', 'immigr', 'dreamer', 'support', 'deplor', 'ms13', 'killer', 'human', 'be', 'womb', 'protestor', 'abid', 'member', 'terrorist', 'bill', 'clinton', 'feminist', 'brett', 'kavanaugh', 'predat', 'provid', 'critic', 'criticismlit', 'bash', 'zero', 'analysi', 'spend', 'homi', 'togethernow', 'ya', 'whine', 'symbol', 'rap', 'lmaooo', 'bitch', 'fat', 'anyway', 'tryna', 'rock', 'isnt', 'custodi', 'cannot', 'gener', 'popul', 'sort', 'hold', 'cell', 'black', 'femal', 'chang', 'tcot', 'rednationris', 'deep', 'turn', 'finna', 'crispi', 'jog', 'suit', 'communist', 'elder', 'owen', 'bravest', 'point', 'cultur', 'engrain', 'short', 'link', 'poverti', 'resist', 'noth', 'die', 'sport', 'japan', 'pm', 'foresight', 'pander', 'muslim', 'tori', 'ge', 'ex', 'ridicul', 'groceri', 'shop', 'amaz', 'thrown', 'freak', 'epitom', 'everyth', 'made', 'dumb', 'drug', 'test', 'well', 'trumpster', 'must', 'true', 'also', 'handl', 'cuba', 'hurrican', 'appar', 'po', 'viacom', 'bought', 'bet', 'went', 'ownership', 'opinion', 'fals', 'downplay', 'feel', 'fit', 'narr', 'hurt', 'soul', 'oh', 'mine', 'investig', 'reveal', 'highli', 'isi', 'attack', 'worst', 'case', 'scenario', 'joint', 'isisantifa', 'world', 'owe', 'sure', 'break', 'dana', 'job', 'pay', 'healthcar', 'etc', 'dirt', 'bag', 'shower', 'cri', 'st', 'bullshit', 'great', 'work', 'asham', 'reason', 'cop', 'distract', 'famili', 'consist', 'cheat', 'husband', 'love', 'bonu', 'boy', 'clear', 'mom', 'affect', 'stray', 'cat', 'wew', 'paid', 'employe', 'cash', 'coward', 'end', 'charad', 'sabotag', 'silenc', 'plu', 'facelift', 'soft', 'porn', 'model', 'insan', 'handcuffsforhillari', 'push', 'pipe', 'dream', 'offic', 'foxnew', 'socialismsuck', 'ptotu', 'given', 'trust', 'wakeupamerica', 'commit', 'belong', 'respect', 'stick', 'wife', 'let', 'forget', 'scream', 'slaveri', 'sound', 'option', 'dimli', 'rememb', 'econ', 'theori', 'might', 'appli', 'chicago', 'butthurt', 'treason', 'hang', 'f', 'lock', 'fast', 'stage', 'farrakhan', 'total', 'pathet', 'nobodi', 'address', 'cow', 'room', 'florenc', 'obsess', 'millionair', 'comedian', 'daddi', 'bone', 'spur', 'hand', 'ahol', 'satan', 'daughter', 'explain', 'shooter', 'far', 'defeat', 'manli', 'express', 'solidar', 'useless', 'mock', 'son', 'sean', 'penn', 'seek', 'divid', 'men', 'lt', 'gotta', 'jeff', 'spicoli', 'advoc', 'marxism', 'tool', 'jewish', 'globalist', 'beast', 'westminst', 'utter', 'bulshit', 'cear', 'hous', 'grenfel', 'tenant', 'merit', 'speak', 'louder', 'empti', 'promis', 'poor', 'godless', 'melt', 'texa', 'touch', 'crap', 'steal', 'civil', 'transcend', 'lifefrom', 'insist', 'stringent', 'children', 'sink', 'fall', 'seriou', 'postpon', 'hear', 'interest', 'vile', 'lunaci', 'alinski', 'rule', 'radic', 'handbook', 'matter', 'liestealus', 'violenc', 'destroy', 'lack', 'charact', 'moral', 'code', 'medic', 'treat', 'addict', 'mental', 'ill', 'caus', '1st', 'wall', 'mann', 'aint', 'smoov', 'booti', 'gee', 'selfish', 'self', 'serv', 'trudeau', 'mulroney', 'ambros', 'solv', 'partisan', 'issu', 'yoo', 'dog', 'face', 'consequ', 'sheep', 'led', 'slaughter', 'eat', 'disgust', 'everi', 'harri', 'ignor', 'daili', 'without', 'set', 'predict', 'tactic', 'induc', 'maneuv', 'attempt', 'delay', 'instal', 'judg', 'midterm', 'write', 'book', 'blindli', 'follow', 'fascist', 'traitor', 'anymor', 'deepstatecorrupt', 'golf', 'lunat', 'magadingdong', 'ralli', 'brainwash', 'realiz', 'blatant', 'wors', 'berkeley', 'univers', 'california', 'nearli', 'disagre', 'wasnt', 'supremaci', 'drain', 'limit', 'thank', 'patriot', 'share', 'bc', 'loos', 'signal', 'rain', 'batt', 'place', 'plug', 'folk', 'bless', 'manafort', 'k', 'street', 'long', 'dark', 'agre', 'alreadi', 'uglydidnt', 'start', 'pussi', 'wouldnt', 'thursdaythought', 'thankfulthursday', 'tick', 'tock', 'swamp', 'soon', 'separ', 'color', 'bare', 'vs', 'flake', 'els', 'bent', 'shape', 'second', 'guncoward', 'rager', 'shamer', 'answer', 'brainless', 'stoog', 'ocasiocortez', '40t', 'polici', 'futur', 'surrend', 'dem', 'moron', 'bad', 'list', 'profil', 'pr', 'mayor', '3000', 'worth', 'jose', 'ramirez', 'hit', 'averag', 'homer', 'doubl', 'defens', 'definit', 'blake', 'snell', 'cy', 'young', 'number', 'jacob', 'degrom', 'al', 'bia', 'blocker', 'glass', 'racist', 'homophob', 'add', 'decid', 'certain', 'toxic', 'fake', 'page', 'si', 'miser', 'obama', 'accomplish', 'worship', 'wantno', 'goal', 'complain', 'fuk', 'fox', 'unrel', 'blm', 'neccessari', 'antifaresist', 'mob', 'gaslight', 'loud', 'saul', 'wethepeopl', 'greatawaken', 'hero', 'idiot', 'grandstand', 'idea', 'babi', 'entitl', 'rich', 'exi', 'breed', 'clue', 'boob', 'belli', 'xd', 'mockingbirdmedia', 'read', 'comment', 'fail', 'thestorm', 'draintheswamp', 'releasethevideo', 'fakenew', 'qanon8chan', '5', 'epic', 'moment', '3', 'sentenc', 'graaawrl', 'wyvern', 'breakfast', 'healer', 'babysit', 'dragon', 'foolish', 'buri', 'bodi', 'tank', 'stomach', 'correct', 'deliber', 'distort', 'isa', 'narcissist', 'sociopath', 'accept', 'result', 'welcom', 'leav', 'happi', 'fear', 'monger', 'interrupt', 'enjoy', 'widespread', 'nation', 'histori', 'exhibit', 'gor', 'irration', 'womeni', 'rabbit', 'arent', 'final', 'nfl', 'owner', 'car', 'window', 'smash', 'today', 'antiamerican', 'fucktard', 'wast', 'slap', 'ballot', 'box', 'there', 'israel', 'foreign', 'policiy', 'spie', 'quasi', 'blackmail', 'scheme', 'americafirst', 'dirti', 'georg', 'soro', 'payrol', 'shame', 'oppress', 'misogynist', 'islamophob', 'accord', 'dare', 'low', 'standard', 'topic', 'nigga', 'boycot', 'nike', 'militari', 'ikr', 'ride', 'trainer', 'fun', 'lower', 'rear', 'backwoodsistan', 'fucker', 'crash', 'embarrass', 'liberalsi', 'wonder', 'rape', 'kraze', 'winger', 'nerv', 'open', '4thi', 'john', 'kerri', 'knowingli', 'fund', 'terror', '55', 'billion', 'kag', 'deepstat', 'lmbo', 'pelosi', 'import', 'destriment', 'societi', 'bipolar', 'differ', 'mean', 'justifi', 'death', 'bigot', 'weed', 'crimin', 'deserv', 'murder', 'interestingcaus', 'leftist', 'usbut', 'regulari', 'shootstab', 'mr', 'swalwel', 'allin', 'toward', 'certainli', 'ignoresuppor', 'itantifa', 'instanc', 'sympath', 'sandi', 'hook', 'hoax', 'hitler', 'playbook', 'bloomberg', 'moder', 'gutierrez', 'rico', 'hispan', 'martin', 'christ', 'homosexu', 'crazi', 'tomorrow', 'iwa', 'cool', 'girl', 'pop', 'scare', 'didnt', 'needa', 'yep', 'card', 'latino', 'knew', 'biden', 'felt', 'easili', 'hatr', 'cute', 'def', 'facial', 'offici', 'unemploy', 'million', 'career', 'h1b', 'ran', 'ago', 'lefti', 'upset', 'forc', 'burka', 'imagin', 'mistak', 'freeli', 'appreci', 'horibbl', 'polish', 'friend', 'quit', 'trigger', 'courag', 'intellig', 'ruthless', 'testimoni', 'sourc', 'suprem', 'kiss', 'douch', 'condemn', 'spew', 'polic', 'insult', 'lot', 'crackhead', 'uneduc', 'celebr', 'garbag', 'script', 'ive', 'experienc', 'movi', 'beat', 'incit', 'held', 'account', 'despic', 'bastard', 'fudg', 'reportthen', 'label', 'success', 'capitalist', 'higher', 'opportun', 'dumbest', 'fbi', 'orrin', 'hatch', 'closet', 'hide', 'offend', 'togeth', 'middl', 'pant', 'ate', 'booger', 'arrest', 'taken', 'cover', 'cours', 'explod', 'build', 'jesu', 'unwant', 'mother', 'flush', 'toilet', 'goe', 'direct', 'less', 'whatev', 'blather', 'supplymanag', 'stubbornli', 'cling', 'tax', 'intern', 'deal', 'afford', 'prove', 'cheepika', 'goddess', 'offer', 'insecur', 'target', 'alia', 'threat', 'geniu', 'a..', 'tight', 'hot', 'spotlightsh', 'victim', 'anim', 'stopkavanaughnow', '18', 'usc', 'sec', '2383', 'et', 'charg', 'eric', 'holder', 'scum', 'apiec', 'oshaeterri', 'thuglif', 'behav', 'ordinari', 'dispos', 'maga2020', 'magarallyrul', 'texaspolic', 'lord', 'pie', 'kept', 'cck', 'holster', 'toss', 'hollyweirdo', 'confirm', 'despit', 'pure', 'move', 'block', 'nomin', 'earli', 'stori', 'harass', 'rethuglican', 'shameless', 'undeserv', 'overbear', 'crybabi', 'throw', 'tantrum', 'william', 'primari', 'argument', 'constitut', 'war', 'heighten', 'propaganda', 'corner', 'sturmabteilung', 'wake', 'rnc', 'poll', 'find', 'via', 'tuesdaythought', 'expect', 'pool', 'pretti', 'mistreat', 'man', 'innoc', '36', 'contest', 'shimmmi', 'ok', 'jk', 'aliv', 'sinc', 'strict', 'dictatorship', 'libtard', '3900', 'trillion', 'dollar', 'recov', 'rebuild', 'journal', 'cartoon', 'crook', 'male', 'listen', 'brick', 'load', 'land', 'phx', '30', 'min', 'san', 'sit', 'tarmac', '40', 'miss', 'connect', 'oak', 'disco', 'pose', 'dude', 'overbit', 'classic', '70', 'danc', 'holi', '0', 'choic', 'unprotect', 'pregnanc', 'std', 'hiv', 'respons', 'safeti', 'age', 'claim', 'jurisdict', '6', 'wouldv', 'found', 'fl', 'freakin', 'jeremi', 'corbin', 'necessari', 'avoid', 'freshman', 'dirtbag', 'mess', 'ambul', 'chaser', 'shyster', 'bigger', 'swear', '4presum', 'trivial', 'dr', 'ford', 'harrow', 'experi', 'gf', 'ein', 'track', 'album', 'pahh', 'walldoesntprotectfromamerican', 'dildo', 'bitter', 'doj', 'tho', 'mmmhm', 'gave', 'extra', 'align', 'organ', 'butcher', 'profit', 'somehow', '100', 'thousand', 'defenseless', 'yr', 'pocket', 'anderson', 'gay', 'default', 'jr', 'dad', 'tangl', 'weav', 'practic', 'deceiv', 'journalist', 'spread', 'info', 'paint', 'shree', 'krishnaji', 'ligic', 'profession', 'secular', 'tear', 'religi', 'libya', 'mi6', 'cia', 'wage', 'msm', 'chemic', 'weapon', 'legal', 'coup', 'blood', '1', 'game', 'openli', 'persecut', 'promot', 'segreg', 'milit', 'similar', 'brown', 'shirt', 'armband', 'saturday', 'dinner', 'annual', 'season', 'round', 'ground', 'huge', 'gore', 'mind', 'stopkavanagh', 'repeatedli', 'abort', 'undocu', 'unfit', 'court', 'person', 'cherrypick', 'truli', 'dubakoor', 'mumtaj', 'armi', 'surviv', 'titl', 'valu', 'inquir', 'smoke', 'reefer', 'magabottyp', 'sea', 'basic', 'decenc', 'finger', 'forward', 'collaps', 'scandal', 'ruin', 'chair', 'purpos', 'orcastr', 'boot', 'bribe', 'lead', 'fam', 'demograph', 'citi', 'buttmunch', 'reap', 'sew', 'billi', 'bargain', 'haha', 'yeah', 'usa', 'usa2', 'venezuela', 'north', 'korea', 'move2', 'instead', '2destroy', 'father', 'fought', '4', 'freedom', 'shed', 'ungrat', 'lindsey', 'hanniti', 'echo', 'chamber', 'simpli', 'news', 'pundit', 'conspiratori', 'craft', 'partial', 'aim', 'narrow', 'audienc', 'laughabl', 'ball', 'jehovah', 'yahweh', 'immor', 'contradict', 'field', 'kneel', 'pledg', 'nonprofit', 'youth', 'michael', 'coalit', 'measur', 'guess', 'gov', '65', 'defend', 'amid', 'alleg', 'diann', 'feinstein', 'obsolet', 'sh', 'correlationdefinit', 'cnn', 'light', 'torch', 'ga', 'flame', 'video', 'send', 'racism', 'fine', 'includ', 'ahead', 'pick', 'choos', 'inform', 'graham', 'butt', 'hole', 'scj', 'merrick', 'garland', 'fair', 'thru', 'unpopular', 'nomine', 'endors', 'felon', 'ah', 'ye', 'berni', 'vermont', 'regard', 'shittedshat', 'ytd', '06kg', 'stream', 'floor', 'ted', 'wiper', 'premedit', 'rehears', 'enough', 'scam', 'sc', 'aw', 'smug', 'everywher', 'small', 'red', 'town', 'spank', 'brettkavanuagh', '17', 'sleep', 'night', 'injustic', 'occur', 'windrush', 'generationblack', 'briton', 'whose', 'record', 'theresa', 'home', 'secretari', 'deport', 'minist', 'institutionalrac', 'devalu', 'independ', 'articl', 'disgruntl', 'student', 'bot', 'havent', 'done', 'deepli', 'fondli', 'subject', 'sarandon', 'class', 'classless', 'rambl', 'reaction', 'swift', 'appeal', 'directli', '50', 'priest', 'womenespeci', 'stay', 'forev', 'elo', 'post', 'thee', 'booter', 'commun', 'bronbron', 'lakergang', 'fulli', 'cancer', 'proudli', 'multicultur', 'germani', 'nationalist', 'discuss', 'hypocrisi', 'individu', 'pope', 'embezzel', 'bengazi', 'woke', 'chud', 'super', 'soldier', 'serum', 'pizzag', 'hivit', 'eagleonetowanta', 'straight', 'polygraph', 'inadmiss', 'sign', 'cavanagh', 'honor', 'rep', 'maxin', 'water', 'vise', 'permit', 'washington', 'capit', 'zimmerman', 'travon', 'florida', 'hilari', 'awww', 'cupcak', 'realiti', 'fuckinggg', 'hahaha', 'question', 'anywher', 'principl', 'canadian', '247', 'justin', 'obviou', 'who', 'manipul', 'canada', '60', 'pin', 'thread', 'explan', 'alot', 'devil', 'minion', 'prayer', 'growth', 'coars', 'disput', 'wisdom', 'teeth', 'proud', 'disast', 'zone', 'store', 'incred', 'outrag', 'yal', 'footbal', 'walk', 'exact', 'date', 'competit', 'slick', 'rob', 'fraud', 'rake', 'lust', 'blond', 'hair', 'midriff', 'micromini', '48', 'older', 'grandmoth', 'leg', 'grew', 'smack', 'outta', 'tit', 'hog', 'queen', 'knot', 'relat', 'comfort', 'twit', 'golden', 'throne', 'horrend', 'act', 'breath', 'tini', 'bit', 'selv', 'awesom', 'fault', 'nope', 'sympathi', 'stranger', 'pulp', 'hood', 'thug', 'tire', 'afraid', 'payer', 'junket', 'unbridl', 'arrog', 'pressur', 'beyond', 'where', 'behind', 'vail', 'begin', 'updat', 'chuck', 'schumer', 'steami', 'affair', 'cheerlead', 'conf', 'chickschum', 'resign', 'kavenaugh', 'fridayfeel', 'demdirtytrick', 'liesyou', 'enuf', 'lick', 'strap', 'chicag', 'manipulatorgo', 'vack', 'indonesia', 'barri', '25th', 'comey', 'mulller', 'roll', 'duct', 'tape', 'suffici', 'sonofabitch', 'grappl', 'fill', 'void', 'fundament', 'eventu', 'brennan', 'jaw', 'v', 'star', 'kurt', 'chiselchest', 'lorna', 'buxom', 'whud', 'laser', 'swordsjess', 'jealou', 'immatur', 'mention', 'dime', 'cuz', 'infuri', 'f...', 'pot', 'propos', 'ward', 'gaylesbian', 'opposit', 'entir', 'troll', 'tweeter', 'kettl', 'payoff', 'iran', 'necular', 'sale', 'wave', 'goodbi', 'clean', 'unconstitut', 'enemi', 'slide', 'scale', 'bunch', 'vilifi', 'action', 'refer', 'bright', 'racial', 'statement', 'ms', 'biggest', 'dogsh', 'abclet', 'protrump', 'evilest', 'cunt', 'bite', 'viciou', 'tongu', 'stfu', 'salti', 'famou', 'dubiou', 'mortgag', 'ninja', 'loan', 'subprim', 'borrow', 'bank', 'cite', 'discrimin', 'cmo', 'deriv', 'equival', 'march', 'furri', 'incarcer', 'baldfac', 'surpris', 'texan', 'heart', 'blunt', 'whether', 'bluntli', 'rude', 'treasonousgover', 'tack', 'bullet', 'serial', 'rapist', 'theyv', 'captur', 'redwav', 'votey', 'proven', 'hop', 'bandwagon', '2adefend', 'trumptim', 'flat', 'clownbottom', 'sellout', 'mirror', '8', 'plenti', 'shift', 'manag', 'correctli', 'fli', 'tinubu', 'monster', 'yoruba', 'modern', 'meet', 'walter', 'magawalt', 'imaginari', 'fakenewswalt', 'minor', 'penchant', 'themwalt', 'toenail', 'whoever', 'inth', 'senat', 'ensur', 'margin', 'victori', 'ami', 'coney', 'barrett', 'nightmar', 'banish', 'acct', 'fb', 'brandon', 'zjail', 'applejack', 'walkawaymarch', 'downpoof', 'begon', 'abl', 'jaclyn', 'morph', 'return', 'decept', 'predatori', 'yesonkavanaugh', 'retard', 'nfw', 'amount', 'dope', 'houseapart', 'potenti', 'unpredict', 'ltltltlt', 'unfair', 'bias', 'unjustifi', 'massiv', 'censorship', 'exercis', 'gtgtgtgt', 'pray4theusa', 'pray4reviv', 'dens', 'presum', 'popular', 'southern', 'calv', 'clarenc', 'thoma', 'imma', 'yo', 'professor', 'troubl', 'grope', 'obvious', 'ploy', 'deter', 'scotu', 'appoint', 'spokesman', 'lake', 'norman', 'interview', 'unanim', 'everybodi', 'tract', 'lean', 'to', 'liketrump', 'usual', 'messi', 'goalkeep', 'goat', 'honest', 'enforc', 'agenc', 'dig', 'chines', 'chauffeur', 'assualt', 'citizen', 'qualifi', 'tenni', 'constantli', 'atp', 'will', 'colleagu', 'sever', 'lax', 'exist', 'embrac', 'fascism', 'grandfath', '19421945', 'footstep', 'vain', 'ur', 'dumbass', 'fr', 'arm', 'commi', 'atheist', 'refuge', 'preciou', 'iya', 'risi', 'area', 'widow', '5children', 'often', 'type', 'event', 'heat', 'legislatur', 'protect', 'order', 'swung', 'rational', 'fleet', 'peac', 'utopian', 'demoncrap', 'invent', 'origin', 'koolaid', 'drinker', 'earth', 'cock', 'lone', 'ummm', 'alyssa', 'buy', 'written', 'spoke', 'condit', 'anonym', 'furnitur', 'johnson', 'hall', 'replac', 'shittier', 'couch', 'seuday', 'perceiv', 'weak', 'kim', 'jun', 'un', 'tough', 'kick', 'acuss', 'judgekavanaugh', 'zipit', 'antifaand', 'acornand', 'pall', 'hahahahahhado', 'malarkey', 'announc', 'hunt', 'prosecut', 'stcshoot', 'kneejerk', 'restrict', 'piti', 'suppos', 'obey', 'spanish', 'shouldv', 'compli', 'dissent', 'emot', 'snowflak', 'camp', 'boarder', 'okay', 'lame', 'outsid', 'cage', 'economi', 'boom', 'overlook', 'trashi', 'planet', 'pretend', 'terroism', 'starvat', 'flint', 'climat', 'global', 'warm', 'traffick', 'brutal', 'femin', 'protest', 'soooo', 'talent', 'gooni', 'gz', 'sametrash', 'tv', 'discov', 'televis', 'albeit', 'subtitl', 'favorit', 'oldfashion', 'creativ', 'endeavor', 'nvm', 'dc', 'film', 'physic', 'suggest', 'repub', 'neither', 'authoritarian', 'conjur', 'brought', 'wh', 'juan', 'misinform', 'drunk', 'driver', 'wreck', 'injur', 'fled', 'scene', 'qual', 'sing', 'stink', 'wind', 'weve', 'theferalleft', 'infiltr', 'indoctrin', 'hire', 'hemorrhoid', 'industri', 'spreadsheet', 'mulford', 'nyt', 'recycl', 'tom', 'marvollo', 'riddl', 'evan', 'lose', 'ladi', 'nod', 'grin', 'silent', 'ident', 'lucki', 'hardli', 'nothinglow', 'plausibl', 'labour', 'access', 'suspect', 'argu', 'actor', 'joe', 'isand', 'alll', 'phoni', 'joeyour', 'dreg', 'preach', 'yale', 'pee', 'snow', 'choke', 'nbd', 'moronsaregoverningamerica', 'tong', 'disinfect', 'itd', 'monday', 'slow', 'dictat', 'term', 'panther', 'moor', 'learn', 'unlik', 'myer', 'wynn', 'smithsgrov', 'thorn', 'cult', 'intent', 'madman', 'station', 'broadcast', 'youd', 'bubbl', 'vast', 'keepinghi', 'fucken', 'dinosaur', 'steinbrenn', 'squeal', 'sandwich', 'feed', 'disabl', 'crowd', 'role', 'molest', 'congress', 'clown', 'prevent', 'doctrin', 'compani', 'pro', 'priceless', 'colleg', 'selfinflict', 'brilliant', 'realest', 'tealest', 'da', 'gawd', 'plain', 'similarli', 'island', 'donald', 'unsurpris', 'abject', 'failur', 'dismiss', 'earthi', 'racket', 'fakeass', 'penalti', 'donut', 'match', 'nicknam', 'tonight', 'ufc228', '35', 'sane', 'acknowledg', 'makeamericagreatagain', 'makeamericaamericaagain', 'makeamericastrongagain', 'makeamericasafeagain', 'makeamericasaneagain', 'implant', 'remi', 'skinner', 'pregnant', 'achichincl', 'lamebota', 'lolol', 'story\\xa0url', 'solid', 'posit', 'influenti', 'desir', '20', 'glad', 'dementia', 'simpl', 'clearli', 'prick', 'secondhand', 'pincushion', 'ugh', 'wallet', 'conner', 'coz', 'anti', 'pakistani', 'firearm', 'semiautomat', 'mexican', 'collud', 'russia', 'ab', 'defin', 'lift', 'heavi', 'weight', 'sen', 'sat', 'seeker', 'rudi', 'goos', 'covet', 'fashion', 'ipad', 'strang', 'phobia', 'amazingli', 'foot', 'boyfriend', 'ole', 'keith', 'ellison', 'beater', 'rose', 'swarm', 'pounc', 'verb', 'kany', 'gain', 'empow', 'ohhhh', 'highjack', 'comedi', 'easier', 'viral', 'draw', 'stale', 'month', 'dlc', 'pig', 'neonazi', 'unmask', 'coverag', 'journo', 'reli', 'awar', 'gitmo', 'birthday', 'yessssshhhhh', 'shitgul', 'ryme', 'forttrump', 'poland', 'boomingeconomi', 'somewher', 'tedcruz', 'layer', 'golan', 'height', 'couldnt', 'document', 'antigop', 'pardon', 'rip', 'behavior', 'competitor', 'applaud', 'nonsens', 'funnywnba', 'championship', 'visit', 'amazingand', 'plastic', 'itohrightsh', 'harm', 'facewhat', 'nextcomplet', 'armor', 'liberalwhat', 'highest', 'rate', 'strictest', 'swiss', 'train', 'rare', 'corpor', 'assassin', 'unarm', 'ugli', 'best', 'special', 'easi', 'administr', 'dalla', 'pd', 'drag', 'mud', 'cincinatti', 'proper', 'scaramucci', 'collar', 'penni', 'sucker', 'lincoln', 'coont', 'met', 'guarante', 'dumber', 'gif', 'art', 'encor', 'western', 'elimin', 'adam', 'schiff', 'releas', 'fisa', 'bureaucrat', 'hack', 'purg', 'kag2020', 'ostrich', 'breitbart', 'neocon', 'establish', 'alex', 'marlow', 'stranahahn', 'nixon', 'along', 'wannab', 'valid', 'freshmen', 'bucket', 'hospit', 'everybodyin', 'legitim', 'suretragedi', 'altern', 'sensit', 'unfilt', 'sparki', 'diseas', 'soulless', 'agent', 'cutsi', 'prepar', 'retweet', 'novemb', 'lawless', 'impeach', 'proceed', 'offens', 'repuls', 'antic', 'yesterday', 'marvel', 'stan', 'moe', 'overus', 'thano', 'relev', 'deathb', 'confess', 'director', 'casey', 'bodyguard', 'sociabl', 'quotient', 'picant', 'sauc', 'jersey', 'alamo', 'attend', 'governor', 'abbott', 'excel', '90', 'juanita', 'broderick', 'breatg', 'kpop', 'nigger', 'nuke', 'standbi', 'runaway', 'libshateamerica', 'commiessuck', 'marijuana', 'peoplekind', 'uncomefortbul', 'stone', 'describ', 'grown', 'screen', 'bloodi', 'potu', 'eye', 'kay', 'studentloan', 'crisi', 'punch', 'carol', 'reunion', 'asshol', 'rightw', 'budg', 'meant', 'fresh', 'rotten', 'mogg', 'jacobreesmogg', 'chuckchequ', 'chequer', 'primeminist', 'bbc', 'sky', 'lbc', 'fked', 'lemon', 'twin', 'vigor', 'awh', '1bori', 'mistress', 'betray', 'divorc', 'r4today', 'financ', 'sovereignti', 'whore', 'esp', 'onlin', 'autumn', 'orang', 'thanksgivingblack', 'friday', 'stock', 'tf', 'sheet', 'absurd', 'transit', 'fortitud', 'kamala', 'rapidli', 'dishonest', 'randi', 'orton', 'ear', 'pedophil', 'fck', 'alana', 'steve', 'scalis', 'msnbc', 'controvers', 'qualiti', 'chip', 'flag', 'unabl', 'healthi', 'relationship', 'translat', 'dyke', 'squad', 'iwillnotsubmit', 'demonrat', 'plantat', 'puppet', 'hollyweird', 'pedowood', 'creepi', 'pedo', 'shatter', 'click', 'mounti', 'internetonli', '150', 'pound', 'heavier', 'nancypelosi', 'chuckschum', 'scrub', 'upgrad', 'somebodi', 'version', 'maid', 'outfit', 'furiou', 'contempt', '16', 'woodword', 'slander', 'fuckingndb', 'funnyhej', 'chicken', 'russ', '110', 'takendt', 'heck', 'boop', 'depart', 'freez', 'boopboopboop', 'unhing', 'witch', 'dosh', 'leftest', 'nutti', 'pastsh', 'teach', 'anyonei', 'psycho', 'gorsuch', 'lockherup', 'firemalyoung', 'destruct', 'neoliber', 'wing', 'leftw', 'centrist', 'privatis', 'burden', 'taxpay', 'risk', 'centrism', 'dolt', 'nail', 'hammer', 'congresswoman', 'demon', 'within', 'greedi', 'submit', '2016', 'minu', 'bruh', 'spartan', 'widdl', 'hater', 'gail', 'frustrat', 'hasbeen', 'endless', 'hereus', 'gtgtgtgtgt', 'ltltltltltlt', 'bath', 'pedophlia', 'virtu', 'champion', 'dawn', 'excommun', 'thatll', 'em', 'maniac', 'uk', 'polititian', 'filth', 'expens', 'paedophilia', 'remain', 'secret', 'declar', 'due', 'secur', 'comi', 'pun', 'intend', 'emerg', 'stronger', 'croni', 'wordsh', 'mouthreal', 'leftliber', 'bull', 'lip', 'antonio', 'vigil', 'droop', 'minut', 'stall', 'hs', 'incid', 'bait', 'email', 'sent', 'lobbi', 'pharma', 'otherwis', 'screw', '9', 'factori', 'worker', 'iowa', '20gaug', 'winchest', 'pumpact', 'shotgun', 'assult', 'beign', 'grok', 'sun', 'granni', 'unscath', '7', 'personnel', 'wisconsin', 'top', 'marri', 'elitist', 'patholog', 'lectur', 'repres', 'ramo', 'ump', 'theyd', 'rather', 'sadli', 'marxiststhey', 'stateonli', 'ukip', 'allig', 'hahahahahasuresh', 'spoil', 'bratand', 'berserk', 'beaten', 'headlin', 'stack', 'unclassifi', 'slent', 'morn', 'worthi', 'christian', 'roman', 'cathol', 'flock', 'air', 'forgot', 'tag', 'bulletproof', 'mate', 'vortex', 'drink', 'trumper', 'andor', 'wtrump', 'onit', 'belief', 'cordial', 'mac', 'griev', 'cmon', 'az', 'underag', 'forbid', 'construct', 'earn', 'quiet', 'rssreachesout', 'intoler', 'psuedo', 'batshit', 'invad', 'compar', 'imbecil', 'darl', 'brat', 'mug', 'meth', 'wana', 'song', 'blow', 'later', 'sha', 'vultur', 'tim', 'rescu', 'burnett', 'conway', 'surgeri', 'battl', 'comic', 'fate', 'rage', 'iron', 'hasten', 'demis', 'execution', 'unleash', 'worser', 'steroid', 'pill', 'mix', 'alcohol', 'antisuicid', 'licens', 'democratsthi', 'partynoth', 'nutjob', 'lil', 'egghead', 'bibl', 'challeng', 'obnoxi', 'loop', 'phase', 'sudden', 'besid', 'sacrific', 'appal', 'punk', 'warrior', 'marcu', 'smart', 'tougher', 'publicli', 'jack', 'elderli', 'homeown', 'pigeon', 'exclud', 'soonyi', 'adult', 'signific', 'maker', 'main', 'nuclear', 'mbga', 'lit', 'negoti', 'south', 'tower', 'britain', 'hillari', 'nonpresidenti', 'hahahahaha', 'skin', 'crawl', 'liabil', 'possibl', 'jess', 'jon', 'voight', 'bald', 'combov', 'oldageproblem', 'omg', 'pervers', 'bfa', 'rift', 'deflect', 'singl', '92', 'sir', 'immigrant', 'quarterback', 'display', 'temper', 'regret', 'gross', 'attorney', 'juvenil', 'democratsdividinganddestroyingamerica', 'democratshateamerica', 'accident', 'injuri', 'snd', 'desth', 'unkess', 'histor', 'heritag', 'persona', 'project', 'mask', 'involv', 'displac', 'devin', 'nune', 'duncan', 'hunter', 'calif', 'pain', 'detail', 'describesto', 'sear', 'gorgeou', 'sob', 'iq', 'gdp', 'famil', 'mainli', 'ethic', 'pedofil', 'suppress', 'improv', 'metoomov', 'machin', 'kavanaughconfirmationhear', 'bro', 'j', 'rubin', 'incompet', 'lib', 'cost', 'pre', 'amus', 'sicken', 'scientist', 'twist', 'gunsens', 'ha', 'aid', 'detroit', 'union', 'bankrupt', 'cali', 'welfar', 'homeless', 'develop', 'wownot', 'math', 'croock', 'yutz', 'twice', 'week', 'cross', 'sheriff', 'tragedi', 'came', 'stuff', 'snowbal', 'dimwit', 'manerrlik', 'auhm', 'identifi', 'redwaverising2018', 'scotuskavenaugh', 'derang', 'votedemsout', 'confirmjudgekavanaugh', 'neo', 'delud', 'appear', 'rail', 'ecstasi', 'conflict', 'carrey', 'peewe', 'herman', 'accessori', 'yell', 'wayi', 'litterli', 'mark', 'puppi', 'stole', 'upper', 'echelon', 'fish', 'catch', 'saggi', 'whitey', 'talkin', 'jv', 'delet', 'ig', 'newsweek', 'longer', 'deepstatepan', 'circul', 'print', 'edit', 'cousin', 'terri', 'porter', 'pi', 'osu', 'alumn', 'naw', 'coach', 'scumbag', 'aaron', 'hernandez', 'shithol', 'masturb', 'dress', 'ice', 'uniform', 'cartel', 'hill', 'filthi', 'maggot', 'bench', 'constitu', 'italian', 'born', 'sicili', 'notion', 'antifasc', 'nezha', 'nidu', 'shoulder', 'segment', 'baiter', 'elicit', 'unfortun', 'vicari', 'author', 'brainer', 'humili', 'goper', 'kochsuck', 'slob', 'luck', 'ton', 'process', 'opertunist', 'opertiunist', 'shovel', 'counti', 'indiana', 'foul', 'chargetheyr', 'profound', 'awayamerican', 'reproduct', 'david', 'birnbaumth', 'manexcept', 'liberalsarrog', 'complac', 'elector', 'anybodi', 'wack', 'grabber', 'grave', 'immediar', 'fodder', 'runci', 'program', 'crookedhillari', 'bed', 'grannytrumptrain', 'dregofsocieti', 'almost', 'la', 'gang', 'memberilleg', 'traffic', '95445', 'amendmentreach', 'absolutecrimin', 'unarmedpix', '2a', 'polsi', 'fienstin', 'border', 'cleans', 'structur', 'england', 'toe', 'chees', 'magyar', 'nemzet', 'népszabadság', 'past', '1989', 'democratno', 'sayyou', 'democratsp', 'togetherlos', 'davido', 'oga', 'madam', 'park', 'na', 'haterz', 'chop', 'n', 'uber', 'consensu', '15yearold', 'disqualifi', 'lifeordeath', 'decis', 'govt', 'soundbit', 'immedi', 'resourc', 'requir', 'propoganda', 'beta', 'convo', 'mute', '10kid', 'jobless', 'nigerian', 'bomb', 'aclu', 'domest', 'kansa', 'alon', 'insid', 'hour', 'board', 'bliar', 'rid', 'convict', 'bear', 'smell', 'singerwrit', 'icon', 'legend', 'nickidagoat', 'congrat', 'naomi', 'sportsmanship', 'meltdown', 'eject', 'superior', 'hype', 'ima', 'pedovor', 'agsess', 'church', 'tentacl', 'wth', 'pedogatenew', 'umm', 'cb', 'grader', 'huh', 'facsist', 'demor', 'other', 'ammo', 'warn', 'gtcompar', 'weakl', 'proof', 'hed', 'altshit', 'quickli', 'weirdo', 'idio', 'behalf', 'tham', 'batman', 'rat', 'mostli', 'system', 'cameto', 'assholey', 'specif', 'homicid', 'fuckwit', 'languag', 'stretch', 'attest', 'letter', 'statu', 'af', 'bengal', 'selfi', 'wellsaidsh', 'neg', 'feedback', 'respond', 'shyt', 'hitlari', 'bucki', 'elison', 'minnesota', 'pulpit', 'cheeri', 'factual', 'staunch', 'counter', 'wayn', 'drake', 'cube', 'shown', 'investor', 'cheap', 'dish', 'prop', 'pension', 'invest', 'valuabl', 'increas', 'illinoi', 'cook', 'mike', 'madigan', 'sept', '218', 'est', 'text', 'messag', 'collus', 'sue', 'coffin', 'hilliari', 'actulli', 'ign', 'alleyway', 'speaker', 'justsay', 'vinc', 'cabl', 'knighthood', 'endpc', 'guid', 'portland', 'islam', 'guncontrol', 'transgendersgt', 'endculturalmarx', '2019', 'poorer', 'advisor', 'sooooooo', 'oath', 'cahoot', 'divert', 'eddi', 'horribl', 'jobmayb', 'vomit', '930', '3rd', 'blumenth', 'shake', 'leaf', 'leona', 'alleslv', 'weakest', 'nafta', 'tendenc', 'rodger', 'ring', 'regular', 'heroic', 'idiotalert', 'hogg', 'selfdefens', 'handgun', 'oper', 'shill', 'scientologist', 'forgiv', 'thrive', 'circl', 'convinc', 'lazi', 'rais', 'impart', 'mindset', 'selfhat', 'victimhood', 'boo', 'regardless', 'lipsbig', 'buttbig', 'nose', 'imag', 'typic', 'attitud', 'bat', 'omgh', '200', 'kathua', 'northern', 'explicitli', 'british', 'attent', 'indiffer', '1921', 'greatnoth', 'trumpwhat', 'grabberthat', 'dummydonniejr', '2008', 'appl', 'tree', 'enoughisenough', 'liarinchief', 'wher', 'lunch', 'millenni', 'va10', 'determin', 'nrafinanc', 'comstock', 'reelect', 'antisemit', 'ss', 'familiar', 'reckon', 'wacki', 'wednesday', 'nazisarebad', 'transport', 'institut', 'regimen', 'encourag', 'pornographi', 'illegitimaci', 'travi', 'ellen', 'piou', 'spiritu', 'tacozt', 'lethal', 'combo', 'blight', 'womanhood', 'activ', 'unaccompani', 'across', 'angelina', 'joli', 'saniti', 'forsaken', 'looong', 'shore', 'empathi', 'badineffect', 'suffer', 'nine', 'battlefield', 'merci', 'gillibrand', 'opportunist', 'max', 'lier', 'religion', '99', 'gladli', 'irredeem', 'gropi', 'patient', 'percent', 'dez', 'jerri', 'cowboy', 'leech', 'soross', 'intimid', 'leadership', 'dopey', 'durbin', 'lay', 'feet', 'youbuiltthi', 'chicagodeathtol', 'evangel', 'traditionalist', 'hrc', 'nerd', 'bt1100', 'malfunct', 'molli', 'artist', 'step', 'rss', 'urbannax', 'india', 'apart', 'downfal', 'publish', 'revok', 'hmm', 'bore', '2002', 'grand', 'prix', 'environ', 'vet', 'pit', 'blogger', 'fiction', 'hacker', 'hmmm', 'fvkk', 'ambiti', 'muttafuttah', 'gd', 'millenium', 'honk', 'cut', 'crowbar', 'acorn', 'cheek', 'astonish', 'shaq', 'silver', 'evas', '1a', 'preposter', 'gilliam', 'reallywel', 'photo', 'hangin', 'undermin', 'mnuchin', 'slush', 'riot', 'buse', 'bout', 'winter', 'cold', 'sorrynoth', 'setup', 'appeas', 'theyll', 'ronald', 'reagan', 'fuckil', 'refinanc', 'hundr', 'net', 'ourcountri', 'slug', 'front', 'tribun', 'speshul', 'emphasi', 'plant', 'spell', 'conscienc', 'tje', 'doabl', 'suppli', 'diabet', 'ongo', 'piss', 'dougford', 'trumpstyl', 'discredit', 'strategi', 'weaken', 'democraci', 'onpoli', 'sa', 'turd', 'swallwel', 'yer', 'sayin', 'happili', 'feeder', 'bar', 'entertain', 'volunt', 'werent', 'christin', 'blasey', 'seinfeld', 'cancel', 'seri', 'faction', 'dedic', 'transphob', 'labor', 'holiday', 'moronsabout', 'summon', 'master', 'farm', 'took', 'concern', 'polutician', 'chariti', 'baba', 'credit', 'nc', 'biass', 'robot', 'pappi', '5th', 'natur', 'robust', 'schizo', 'guilt', 'tucker', 'upon', 'atlanta', 'pack', 'biglylolbigli', 'wonh', 'unit', 'aholewhat', 'kickedvagina', 'hatslol', 'copi', 'gfi', 'policeand', 'militaryth', 'leagu', 'slowli', 'road', 'lmaaaaoooo', 'unsealthed', 'slushfund', 'pl', 'doublestandarddem', 'declassifyfisa', 'declassifyrelease302sunredact', 'declassifypowsdocu', 'darktolight', 'lump', 'stamp', 'creep', 'gift', 'fk', 'river', 'loss', 'honest/humbl', 'thisth', 'dipshit', 'fring', 'youshhh', 'btch', 'wee', 'tap', 'fae', 'turkey', 'loyal', 'zodiac', 'sagittariu', 'michigan', 'wolverin', 'hshshahhsjjjsjsj', 'pray', 'urin', 'wish', 'tide', 'equal', 'aaaaaaaaa', 'excit', 'hasnt', 'studi', 'wbu', 'istot', 'bhagwad', 'gita', 'gut', 'kuran', 'intellectualidiot', 'dishonor', 'balanc', 'edg', 'ghetto', 'overrun', 'bloodfli', 'admin', 'recognit', 'dopest', 'illest', 'widdit', 'francoism', 'spain', 'separatist', 'embezzl', 'catalonia', 'vlaam', 'belang', 'ampth', 'storm', 'dobut', 'wortless', 'servic', 'hste', 'somon', 'thre', 'inanim', 'object', 'inher', 'decreas', 'holocaust', 'oven', 'claustrophob', 'networkorgan', 'actress', 'li', 'bingb', 'abduct', 'sexist', 'especi', 'verac', 'evid', 'characterstrong', 'sore', 'awaken', 'asinin', 'fakeuberdriv', 'bodywraprestraint', 'crimenew', 'depress', 'espous', 'nasti', 'dt', 'curiou', 'righteou', 'bo', 'homework', 'anatomi', 'bitchi', 'band', 'east', 'coast', 'punish', 'neofaux', 'slither', 'dean', 'costanza', 'islamophobia', 'homophobia', 'mummi', 'sake', 'unwel', 'player', 'yanke', 'wrapschanc', 'rabid', 'magaa', 'entiti', 'brave', 'confront', 'cnnor', 'craven', 'c', 'shortsight', 'aka', 'wolf', 'favor', 'snitch', 'ad', 'spice', 'unstabl', 'magazin', '56', 'zombi', 'apocalyps', 'earlier', 'sicko', 'three', 'notori', 'hint', 'disgracewithout', 'clearanc', 'whit', 'dement', 'concentr', 'campsh', 'hostil', 'poorest', 'christianmor', 'eh', 'jc4pmnow', 'disabilityright', 'robyn', 'gophypocrit', 'politic', 'cinci', 'beauti', 'halfass', 'pal', 'knock', 'knowledg', 'sarcasm', 'unintellig', 'inexperienc', 'advantag', 'unwari', 'quick', 'mf', 'coon', 'disagr', 'brainchild', 'jen', 'gotten', 'mailer', 'approv', 'cuomo', 'flaki', 'pink', 'yup', 'threw', 'ol', 'mah', 'truck', 'dunnit', 'neat', 'lawyer', 'mic', 'eight', 'benfica', 'sesam', '80', 'teen', 'broom', 'legitam', 'treatment', 'melania', 'frankli', 'zena', 'descent', 'escap', 'desensit', 'meme', 'comprehend', 'mouth', 'smirki', 'allegedli', 'exgirlfriend', 'rush', 'vagu', '11th', 'eager', 'horrid', 'doublestandard', 'altright', 'justif', 'wi', 'how', 'cbc', 'declass', 'sin', 'biglli', 'dump', '11k', 'doc', 'geter', 'fnma', 'fmcc', 'fannieg', 'endcorrupt', 'thu', 'clever', 'cast', 'dustbin', 'unreal', '299', 'chlorin', 'scummi', 'drew', 'marker', 'psyc1101', 'theview', 'thw', 'meanwhil', 'greatest', '401k', 'nk', 'tabl', 'denuclear', 'outfrickingstand', 'keithellisonabus', 'pumpkin', 'gospel', 'gold', 'digger', 'aveng', 'menapaus', 'yenta', 'hardcor', 'femanazi', 'tiresom', 'whistl', 'backfir', 'conclusionsthey', 'guiltythey', 'overr', 'han', 'hermann', 'hopp', 'safe', 'sack', 'barrel', 'molonlab', 'momsdemand', 'wednesdaywisdom', 'alga', 'commerci', 'zip', 'princess', 'toadstool', 'satanist', 'dccircuit', 'wno', 'repercuss', 'launch', 'judgeship', 'misdemeanor', 'suspend', 'albert', 'googl', 'overlord', 'ww2', 'rhetor', 'puy', 'chinless', 'donni', 'hobag', 'yonk', 'violat', '45', 'revers', 'horrifi', 'doze', 'jolt', 'wide', 'awak', 'stolen', 'tapper', 'basket', 'bunk', 'jone', 'syndrom', 'inevit', 'td', 'walkawayfromdemocrats2018', 'parkland', 'bug', 'ar', 'donor', 'berniern', 'banger', 'trump2020', 'zac', 'goldsmith', 'faux', 'khan', 'defenc', '911', 'organis', 'fcking', 'latex', 'hmu', 'ifu', 'qs', '26', 'motherfuck', 'faulti', 'bottom', 'askal', 'broken', 'rel', 'rae', 'alt', 'vigilant', 'style', 'controlswamp', 'creatur', 'bewar', 'fed', 'data', 'schmata', 'near', 'nitwit', 'cdnpoli', 'fuckin', 'poison', 'propel', 'lem', '2018', 'suddenli', 'realis', 'limb', 'surviveif', 'particular', 'deceas', 'imposs', 'mukga', 'compromis', 'slut', 'shi', 'smarter', 'wealthi', 'yorker', 'jami', 'dimon', 'jpm', 'nah', 'concert', 'thatd', 'poppin', 'bushi', 'grant', 'automat', 'citizenship', 'lifelong', 'outcom', 'alay', 'xenoblad', 'chronicl', 'pace', 'retir', 'vapor', 'fart', 'ancient', 'athen', 'fjshdhj', 'glove', 'food', 'wit', 'mobil', 'phone', 'govegan', 'sleazbal', 'walkingaway', 'naaa', 'spent', '24', 'fink', 'wiv', 'chri', 'mantra', 'pusher', 'outlaw', 'voluntarili', 'compass', 'legaci', 'wal', 'mart', 'lumpenprol', 'split', 'worthless', 'paranoid', 'hq', 'banter', 'mega', 'mcga', 'conveni', 'nsa', 'ir', 'candiac', 'brownshirt', 'comparison', 'doin', 'brother', 'uncheck', 'bye', 'door', 'government', 'portion', 'parenthood', 'palestinian', 'dupe', 'tessyfiy', 'steadi', 'greeni', 'admir', 'newsworthi', 'logic', 'nowher', 'commentari', 'host', 'blind', 'spot', 'uncivil', 'lickawitch', 'mp', 'propon', 'conceal', 'carri', 'hypothet', 'advanc', 'transvestit', 'shld', 'search', 'rino', 'repeat', 'weaponis', 'probe', 'pub', 'citizenmak', 'extrem', 'figur', 'sidelin', 'bergh', 'chief', 'execut', 'peopleoverprofit', 'hitter', 'compliment', 'snead', 'legit', 'wr', 'jam', 'throat', 'grade', 'lowlif', 'naziism', 'possess', 'evidenc', 'select', 'neighborhood', 'confisc', 'luve', 'admend', 'flower', 'fashi', 'tshirt', 'pinochet', 'ivan', 'fsu', 'rod', 'tango', 'charli', 'oppon', 'score', '41', 'syracus', 'waitingto', 'mao', 'stalin', 'whiney', 'vulgar', 'womanor', 'tata', 'mos2', 'sm', 'space', 'kryptonianturn', 'mm', 'situat', 'refug', 'introduc', 'exempt', 'sometim', 'vibe', 'ten', 'hypocrisymuch', 'bigstuff', 'peter', 'strzok', 'lisa', 'twotier', 'lawbreak', 'impeachjeffsess', 'thief', 'penal', 'ray', 'pod', 'focus', 'veteran', 'budget', 'untal', 'wash', 'catti', 'secondli', 'montel', 'app', 'amendmentcampu', 'lesli', 'ypu', 'dylan', 'roof', 'domino', 'dislik', 'oc', 'amai', 'kira', 'mum', 'pari', 'hallo', 'unrol', 'fir', 'awhil', '6ix9in', 'marchforourl', 'interven', 'beg', 'felicia', 'buff', 'dip', 'viewership', 'overwatch', 'csgo', 'format', 'consol', 'uf', 'shmo', 'hopelessli', 'naïv', 'malign', 'letharg', 'aggress', 'snl', 'beani', 'mindmil', 'toll', 'armageddon', 'lowli', 'exorc', 'pristin', 'litmu', 'isyou', 'mistakenli', 'alien', 'grate', 'cruel', '2the', 'brotherhood', 'monahan', 'organizational', '10kg', 'shite', 'eu', 'smaller', 'whoop', 'jmo', 'sweden', 'franc', 'europ', 'contin', '2050', 'youtub', 'closer', 'broke', '42', 'salari', 'prais', 'crookedmedia', 'advertis', 'crabcak', '10mile', 'radiu', 'eaten', 'washedout', 'potusi', 'mango', 'mussolini', 'pittsburgh', 'conduct', 'mlm', 'graffiti', 'marxistleninistmaoist', 'regim', 'venetian', 'ballroom', 'capac', 'ag', 'mangina', 'uncl', 'sister', 'mazi', 'sensation', 'smut', 'random', 'parent', 'legisl', 'congression', 'demand', 'accusersev', 'againespeci', 'whaooaaaaa', 'otoh', 'trumptrain', 'sundaythought', 'hurricaneflor', 'hurricaneflorence2018', 'bolsonaroeleito1ºlugar', 'bolsonaropresident', 'bb', 'blackout', 'bluewav', 'blackexcel', 'lolololololololo', 'mainstream', 'buckl', 'fbidoj', 'convers', 'apparentl', 'dismemb', 'sand', 'desk', 'villifi', 'rant', 'bolshevik', 'slave', 'spartacu', 'abhorr', 'inexcus', 'fearless', 'forgotten', 'servant', 'club', 'youngster', 'sigh', 'inhal', 'bestfriend', 'expert', 'sanghi', 'bark', 'dignifi', 'outplay', 'count', 'soccer', 'ed', 'burger', 'king', 'bloodsport', 'monologu', 'jackson', 'antitrump', 'noon', 'genuin', 'gullibl', 'beer', 'bedroom', 'implaus', 'antifabulli', 'hatersbulli', 'senior', 'anarchist', 'fluff', 'wherea', 'waltz', 'heavili', 'staf', 'notokavanaugh', 'roe', 'wadewomen', 'indict', 'actaca', 'lgbtq', 'cheer', 'crumb', 'sam', 'mid', 'mood', 'fantast', 'portray', 'jc', 'tyler', 'presumpt', 'lefist', 'pale', 'pole', 'bitchass', 'dipfuck', 'fredo', 'bretheren', 'repunklican', 'ronaldgrump', 'naziusa', 'dickdurbin', 'jay', 'z', 'condom', 'cardi', 'nicki', 'cosign', 'pair', 'sycoph', 'kate', 'breaker', 'mn', 'franchis', 'ohh', 'statist', 'stubbi', 'cleveland', 'cavali', 'fanbas', 'kooki', 'june', 'romney', 'tranni', 'wanktavist', 'wood', 'spare', 'fewer', 'abusuv', 'sooner', 'transgend', 'wrangler', 'roam', 'straw', 'tidi', 'whiti', 'oy', 'el', 'president', 'nebraska', 'char', 'wore', 'wrestl', 'lesbian', 'jokingbut', 'ampnazi', 'presenc', 'inflict', 'wingsbeercountri', 'lessthan', 'gland', 'shouldvetaken', 'volcano', 'motiv', 'throughout', 'nazisocialist', 'playbookth', 'thegreatawaken', 'candid', 'liabilitycb', 'helpmto', 'helpus', 'despis', 'brook', 'sftv', 'henni', 'wanna', 'eg', 'mockeri', 'republ', 'prevail', 'umpir', 'sheepyou', 'sheepl', 'tune', 'emmi', 'messeng', 'rot', 'clergi', 'bergoglio', 'archbishop', 'vigano', 'thot', 'hourli', 'fellow', 'trumpkin', 'peipl', 'closehey', 'ps', 'fist', 'powerso', 'dmbass', 'uninform', 'jeopardi', 'compet', 'aye', 'ocd', 'yeahtot', 'floss', 'firstand', 'sexit', 'rbg', 'serenawilliam', 'cocktribut', 'cum', 'cumtribut', 'cumslav', 'pornstar', 'escort', 'goptrump', 'ssf', 'crack', 'asid', 'yuge', 'fruitcak', 'itsh', 'norm', 'livelihood', 'depend', 'unifi', 'jean', 'sneaker', 'team', 'parodi', 'unto', 'anwel', 'optic', 'substanc', 'slip', 'kavanaughconfirm', 'kavanaughwithdraw', 'kavanaughscotu', 'carter', 'h', 'oba', 'jefferson', 'davi', 'bf', 'elit', 'excrackhead', 'current', 'adulter', 'jerk', 'teacher', 'perk', 'technic', 'hamstrung', 'trippin', 'conclus', 'peni', 'fantas', 'sweat', 'mushroomcap', 'visibl', 'erect', 'noncredit', 'jill', 'disapprov', 'mirosoft', 'rewrit', 'monica', 'lewinski', 'brand', 'produc', 'fuckkk', 'slapper', 'democratsliber', 'voteredtosaveamerica', 'stalk', 'captain', 'evangelist', 'spook', 'intellectu', 'peak', '1991', 'thomass', 'hightechlynch', 'djt', 'glori', 'prize', 'averi', 'period', '𝓭𝔂𝓼𝓹𝓱𝓸𝓻𝓲𝓪', 'goddamn', 'fort', 'shall', 'wise', 'abund', 'ascend', 'descend', 'gen', 'flynn', 'reschedul', 'network', 'psychot', 'thin', 'btwthank', 'bsinsur', 'blister', 'dickhead', 'sneak', 'candi', 'funer', 'rezz', 'bnf', 'abnorm', 'populac', 'lion', 'amongst', 'lamb', 'shadowban', 'yea', 'drive', 'regul', 'precaut', 'vehicl', '2370', 'nay', 'srsli', 'kdksksk', 'simplemor', 'sold', 'illiter', 'childrap', 'assembl', 'rabbi', 'annett', 'mediterranean', 'org', 'sod', 'fuckig', 'ndp', 'fee', 'gover', 'barf', 'squishi', 'selfright', 'tbc', 'whove', 'swallow', 'sj', 'prager', 'hyt', 'ridg', 'ajsjjsjdkkdjdk', 'primarili', 'northwestern', 'european', 'asian', 'correl', 'euro', 'marxist', 'donat', 'do', 'spanki', 'edd', 'republicansconserv', 'perenni', 'knife', 'connecticut', 'adversari', 'steamrol', '4th', 'demonsperiod', 'sacr', 'mutt', 'jim', 'dam', 'telesmokacatin', 'stanc', 'arizona', 'policiesnow', 'bestlol', 'oliv', 'meal', 'tesco', 'athlet', 'session', 'virtual', 'rr', 'shitstream', 'congressman', 'cho', 'normal', 'disarm', 'smh', 'plane', 'ferguson', 'contain', 'unwelcom', 'district', 'unrest', 'discont', 'pppcorporatewelfaredilut', 'rightsfreedom', 'justicesociopolieconfinanci', 'particrat', 'cdnpolitician', '1er', 'libfail', 'traumatis', 'drill', 'draft', 'gather', 'censor', 'bibi', 'younger', 'tad', 'bhadbhabi', 'bhadtranni', 'enemyofthepeopl', 'crush', 'nutcas', 'granth', 'drama', 'alright', 'complicit', 'miriam', 'hung', 'neck', 'kinki', 'becam', 'cealrli', 'fatti', 'starlet', 'lilextra', 'tay', 'gp', 'sheldmaiden', 'miller', 'tommyvalhalla', 'cradl', 'physicalsoci', 'contact', 'suspici', 'conquer', 'hidden', 'oreilli', 'jah', 'hussl', 'solut', 'safery', 'controlwhat', 'tectic', 'lgbt', 'tikoo', 'sunni', 'leon', 'sri', 'krisna', 'definetli', 'octob', 'electionmaga', 'pac', 'brac', 'aa', 'bean', 'patreon', 'whisper', 'pens', 'merch', 'votethemout2018', 'trumpsarmi', 'holland', 'tunnel', 'antiwhit', 'bullhit', 'plot', 'thicken', '36yearold', 'mason', 'sweeti', 'collin', 'halt', 'babygirl', 'hol', 'tl', 'tht', 'energi', 'psi', '1linew', 'ranger', 'proudtobebritish', 'bloat', 'demonstr', 'keel', 'profess', 'prioritis', 'damag', 'gt', 'kaze', 'chittler', 'key', 'respct', 'appointe', 'jwb', 'formerfirst', 'sayn', 'itand', 'incarn', 'fuel', 'odd', 'ijustdontseemyself', 'liberals4gun', 'secondamend', 'sexism', 'whiner', 'whiff', 'persever', 'mcconnel', 'nationwid', 'metal', 'detector', 'fuckbucket', 'bother', 'rig', 'frame', 'prefer', 'pic', 'monitor', 'duck', 'mushroom', 'dryhump', 'gatlin', 'boxer', 'dint', 'hersh', 'invit', 'smdh', 'pruitt', 'chew', 'publicexecut', 'harder', 'vape', 'manner', 'pile', 'shiit', 'dale', 'angela', '75', 'nefari', 'shitbiscuit', 'temp', 'brazen', 'votethemallout', 'behaviour', 'trashpeopl', 'reflect', 'sycophant', 'twat', 'berat', 'fing', 'liberalsdemocrat', 'degre', 'sceptic', 'climb', 'ladder', 'estat', 'builder', 'abomin', 'juli', 'client', 'sleev', 'mediatoo', 'putrid', 'zarri', 'larri', 'shipper', 'ship', 'petti', 'babynot', 'rw', 'kavanugh', 'cox', 'bert', 'erni', 'rang', 'youll', 'rhino', 'channel', 'liestheyr', 'leftwingliberaldiseas', 'eighjt', 'sonja', 'dorinda', 'prettier', 'supposedli', 'disarmharrisnow', 'megumi', 'yeap', 'upbring', 'superstar', 'tradit', 'kangaroo', 'congratulaion', 'terrif', '19', '223', 'bushmast', 'xm15e2', 'asb', 'asa', 'spout', 'buzzword', 'wassamatta', 'wet', 'deed', 'walkawaydemocrats2018', 'liberalismisamentaldiseas', 'dummi', 'unemployedconserv', 'factsjust', 'warp', 'clearmani', 'abil', 'crappi', 'joblisten', 'deliri', 'obes', 'groper', 'stomp', 'charter', 'holt', 'renfrew', 'favourit', 'shopper', 'horwath', 'premier', 'lewi', 'ripoff', 'infring', 'unintent', 'fukin', 'dianefeinstein', 'clarencethoma', 'votered2018', 'confirmcoachk', 'accur', 'metaphor', 'nwo', 'leftthey', 'controlanti2a', 'strike', 'recipi', 'cough', 'eddandflow', 'snapchat', 'howd', 'prostitut', 'boat', 'fuckus', 'evera', 'blatantli', 'bummer', 'advic', 'contribut', 'confirmkavanaughnow', 'trumpstrong', 'voterepublican', 'sharpi', 'socal', 'knack', 'elev', 'yeahhhhh', 'destini', 'cayd', 'liker', 'shove', 'hubbi', 'decemb', 'carmen', 'frick', 'udiot', 'vega', 'theater', 'spring', 'daveb', 'grace', 'simb', 'rightcali', 'boycott', 'fuuckkkk', 'youuuuu', 'fawningli', 'bid', 'againu', 'myth', 'gestapo', 'uphold', '1996', 'lend', 'heifer', 'sombodi', 'kneeler', 'douchebag', 'path', 'fend', '13', 'arriv', 'jacket', 'hrgggg', 'hank', 'schiff4brain', 'losersse', 'democratlol', 'sleaz', 'unattract', 'bigotri', 'judici', '302', 'demot', 'bruce', 'ohr', 'watchin', 'hometown', 'untouch', 'aus', 'reluct', 'narciss', 'incap', 'keyboard', 'leftdemocrat', 'trumpderangementsyndrom', 'shoppingsal', 'usaflag4u', 'shop89', 'pol827qx', 'sarah', 'palin', 'pictur', 'bret', 'occupi', 'schedul', 'erickson', 'award', 'andfu', 'elon', 'slice', 'bread', 'stripe', 'republiklan', 'childhood', 'toy', 'chest', 'doll', 'ernieandbert', 'sesamestreet', 'toad', 'mariokart', 'traitortrump', 'traitortoad', 'era', 'exagger', 'rome', 'spotlight', 'paul', 'mccartney', 'paycheck', 'dershowitz', 'rag', 'patrick', 'philli', 'princ', 'dj', 'jazzi', 'knee', 'simple,', 'barack', 'skeptic', 'alec', 'string', 'obtain', 'jag', 'toni', 'corrent', 'packer', 'vcr', 'highlight', 'impati', '25', 'therefor', 'ineffect', 'gari', 'mauser', 'skill', 'schoolinga', 'abt', 'unjust', 'bubbler', 'selfaggrand', 'fanci', 'metoowitchhunt', '1stbirthday', 'savagesong', 'lst', 'masterpiec', 'garynuman', 'savag', 'no2album', 'towel', 'grip', 'foxi', 'terrorsit', 'lyingliber', 'hurricanemaria', 'veil', 'brighter', 'cloth', 'ulterior', 'fiber', 'cleaningcanada', 'canadaelection2019', 'anc', 'umdala', 'kangaka', 'yhuuu', 'friggen', 'milo', 'medicar', 'cadav', 'treasur', 'deadnam', 'tran', 'join', 'mumbl', 'dang', 'toughest', 'demoncrat', 'turtl', 'jihadist', 'privileg', 'su', 'slanderlibel', 'djsjsjj', 'crave', 'ador', 'nude', 'bovin', 'fecal', 'thst', 'per', 'gruber', 'fukn', 'deterior', 'gum', 'stuck', 'shoe', 'prey', 'theoriesmost', 'egypt', 'ect', 'fabric', 'whybut', 'anythingenjoy', 'showour', 'conscious', 'doit', 'spider', 'leak', 'antifaanonym', 'bee', 'itch', 'lousi', '30piec', 'guidanc', 'oj', 'associ', 'caught', 'g', 'cameron', 'zoom', 'mario', 'cart', 'confus', 'pizza', 'memori', 'withyou', 'auto', 'gggrrr', 'tbh', 'js', 'casa', 'de', 'michelada', 'daniel', 'sleezi', 'lap', 'dancer', 'wealth', 'billionair', 'reform', 'ourselvesy', 'prostitutefor', 'sham', 'drainthedeepstateswamp', 'detect', 'gag', 'jihoon', 'damsel', 'badass', 'protag', 'third', 'hind', 'quarter', 'kickass', 'mislead', '101', 'insul', 'divis', 'heartless', 'ancestor', 'volum', 'pronazi', 'inmat', 'ntknetwork', 'bipartisan', 'combat', 'opioid', 'maga2a', 'prolif', 'hanghim', 'allfuck', '1001', 'nov', 'pc', 'focu', 'testifi', 'surround', 'dnc', 'divers', 'taco', 'roger', 'goodel', 'teamwork', 'rudeand', 'nba', 'citizenstheir', 'pet', 'dealer', 'murders', 'thiev', 'americatheyr', 'handler', 'comput', 'debunk', 'fantasi', 'misspel', 'passport', 'traitoralway', 'irrelev', 'demorat', 'disregard', 'dri', 'foward', 'rubio', '2hour', 'februari', 'dudeignor', 'obstructionist', 'jrshe', 'nothingdont', 'veer', 'trap', 'harden', 'kavanagh', 'l', 'forehead', 'verifi', 'congratul', 'philosoph', 'hippi', 'scholar', 'theemmi', 'limousin', 'osuiteso', 'deregionis', 'fortun', 'sunday', '49er', '27', 'kc', 'niner', 'prescreen', 'gaff', 'hijinx', 'chicaneri', 'buffoon', 'resolv', 'rawr', 'manga', 'antichrist', 'jordan', 'endang', 'whatabout', 'purpl', 'discoveri', 'loot', 'buyout', 'vghc', 'sticker', 'trucksexclus', 'carsseem', 'indic', 'spoken', 'hockey', 'mafia', 'although', 'hurri', 'luckili', 'extremist', 'corbyn', 'pacifi', 'playboy', 'soyboy', 'stickman', 'dweeb', 'resound', 'pour', 'nanci', 'wholeheartedli', 'travesti', 'poopi', 'diaper', 'inject', 'shadow', 'firebal', 'properti', 'swimsuit', 'badli', 'tournament', 'turnoff', 'sht', 'besti', '1986', 'whoviil', 'judgment', 'ballgam', 'puleas', '247365', 'msmedia', 'shitsmear', 'marxin', 'pavlovian', 'hahahaha', 'likelov', 'loui', 'semit', 'bullsht', 'losser', 'internet', 'testi', 'lookout', 'randolph', 'wive', 'nash', 'pakistaniget', 'manif', 'deleiv', 'london', 'nd', 'pk', 'pakistaniy', 'pakistanijust', 'registr', 'honey', 'forefath', 'monopoli', 'consum', 'nh', 'essenti', 'market', 'survivor', 'subvert', 'slouch', 'bum', 'constant', 'surveil', 'scrutini', 'galliv', 'scrap', 'intel', 'unfett', 'among', 'friendsira', 'command', 'cycl', 'bu', 'knowcam', 'gttfw', 'istri', 'quran', 'tale', 'laud', 'altmedia', 'sorosshil', 'shithead', 'reduc', 'nonautomat', 'ny', 'bobwoodward', 'theresist', 'magat', 'killthezebra', 'itll', 'woohoo', 'brothel', 'hahahah', 'idiom', 'trumph', 'starsshhh', 'suntan', 'summer', 'bland', 'toast', 'bb20', 'obum', 'franken', 'lifetim', 'scott', 'newman', 'intitl', 'miseri', 'kookoo', 'denounc', 'up', 'lebron', 'fullest', 'extent', 'tragic', 'hasti', 'judgement', 'devast', 'dull', 'tuesday', 'uhhh', 'ao3', 'fic', 'ode', 'aggrav', 'fierc', 'tiger', 'latest', 'bombshel', 'chunki', 'monkey', 'netflix', 'aww', 'hah', 'chat', 'onya', 'contemptu', 'unep', 'envi', 'increasingli', 'ultim', 'cring', 'trend', 'beef', 'wax', '97', '50namp', 'cam', 'espn', 'spite', 'grovel', 'iranian', 'mullah', 'pallet', 'frozen', 'worldwid', 'whrc', 'funniest', 'supers', 'groupjust', 'yucker', 'guest', 'michaelavenatti', 'wart', 'lmaooooooo', 'squirm', 'numer', 'sadam', 'gass', 'kurd', 'sp', 'unkind', 'dear', 'mcfartney', 'beatl', 'jailtreason', 'instantli', 'wanker', 'hateliber', 'ration', 'vacil', 'scarborough', 'chickenshit', 'npr', 'railroad', 'halper', 'diamond', 'silk', 'minstrel', 'coupl', 'diplomat', 'sway', 'varadkar', 'meh', 'present', 'misdirect', 'crowther', 'lesser', 'sumerian', 'babylonian', 'uniqu', 'inabl', 'substanti', 'causal', 'lawmak', 'preexist', 'scofflaw', 'cohort', 'incl', 'curriculum', 'howev', 'fitmi', 'e', 'rn', 'frog', 'muzzi', 'terriorist', 'impost', 'circumst', 'heaven', 'green', 'grammar', 'par', 'critiqu', 'wellpaid', 'editor', 'hysteria', 'amdor', 'clout', 'wthe', 'gvt', 'wa', 'hillaryobama', 'dissapoint', 'barn', 'inbr', 'chow', 'cake', 'cooki', 'woooow', 'woodward', 'wrote', 'ope', 'townhal', 'nobl', 'joebiden', 'ukrain', 'ukrainian', 'zog', 'antifascist', 'detat', 'greatawakeningworldwid', 'phooey', 'wield', 'crude', 'sharp', 'axe', 'chelsea', 'prohibit', 'possessor', 'ptsd', 'administrationc', 'insur', 'eitherstil', 'rightshop', 'backdoor', 'crucial', 'impos', 'l6', 'headgear', 'ubi', 'plz', 'bloom', '20x', 'trader', 'deviant', 'stopkavanaugh', 'stoptrump', 'savescotu', 'changedy', '2year', 'linktrump', 'henri', 'sickkidsinlov', 'inspo', 'bama', 'tru', 'pretenti', 'tryhard', 'housem', 'cringeworthi', 'bbuk', 'howa', 'hooch', 'ivanka', 'flip', 'annoy', 'acc', 'griffin', 'darci', 'dorsey', 'comet', 'antiameican', 'azz', 'coher', 'superman', 'trailer', 'bv', 'zack', 'ben', 'urself', 'korzemba', 'dcrat', 'impress', 'dontyou', 'trip', 'abyss', 'backwood', 'irrit', 'sametim', 'ib', 'every1', '250', 'nansbabh', 'campa', 'odia', 'bakkt', 'etf', 'fuken', 'cuuuuuk', 'difficult', 'disord', 'amazon', 'barbi', 'goo', 'sjshsj', 'sjw', 'satir', 'humor', 'denigr', 'hadnt', 'godfear', 'antiamerica', 'blossom', 'trail', 'impecc', 'portfolio', 'finestin', 'necrophiliac', 'knowyou', 'chess', 'dimension', 'chessyou', 'manychang', 'dumbaf', 'ish', 'wrongw', 'giant', 'fyou', 'lieit', 'tacticnoth', 'moredisgust', 'sareena', 'crow', 'looney', 'worm', 'drown', 'sunshin', 'parrot', 'everytown', 'addictssit', 'atlant', 'behold', 'gestur', 'benign', 'coopt', 'swastika', 'mondaymotivaton', 'wheat', 'cracker', 'krishn', 'bhakt', 'absenc', 'chandigarh', 'manship', 'wordther', 'shotgunsth', 'blair', 'bizarr', 'spin', 'zealot', 'cater', 'looni', 'relativ', 'fell', 'acquir', 'tooh', 'slovenli', 'jesuit', 'kavanop', 'outoftheeu', 'annasourpuss', 'noeudeal', 'forg', 'fuckeu', 'mgk', 'controversi', 'misconduct', 'maricopa', 'recal', 'fubar', 'checkmark', 'suspens', 'verifiedh', 'fenc', 'thg', 'repli', 'pusheror', 'gloat', 'dreamdol', 'saddest', 'privi', 'alreadydebunk', 'facebook', 'rosetta', 'sunken', 'batter', 'ram', 'sinist', 'beneathhuman', 'til', 'fraudul', 'perform', 'integr', 'gt500', 'hay', 'putinpuppet', 'assang', 'repro', 'eve', 'apparantli', 'baselessli', 'sloth', 'concret', 'couldv', 'gem', 'stuf', 'uphil', 'backbon', 'lowest', 'alli', 'method', 'landon', 'stood', 'batsbottl', 'pepper', 'spray', 'goer', 'trumpsh', 'coverup', 'writer', 'sr', 'adminstr', 'cud', 'stir', 'mcenro', 'hurl', 'shrio', 'fornic', 'aust', 'lasa', 'alliancewhat', 'apartheid', 'mal', 'baseless', 'therapist', 'corrobor', 'beforehand', 'recent', 'sock', 'peoplesvot', 'stopbrexit', 'slogan', 'somewhat', 'soviet', 'uglier', 'podesta', 'ltgod', 'chosen', 'conservativesgt', 'baptist', 'pastor', 'brian', 'kaylor', 'huckabe', 'sander', 'tripl', 'arrestedright', 'romanian', 'gypsi', 'multipli', 'recogn', 'besud', 'meddl', 'briberi', 'basement', 'conservativeseveryon', 'bing', 'duckduckgo', 'hplyk', 'scar', 'hitman', 'disguis', 'woker', 'hillbillieshmmm', 'hillbilli', 'humour', 'realm', 'foolishli', 'weather', 'outdon', 'stunt', 'ik', 'size', 'downobvi', 'lawobvi', 'officerampdept', 'bedo', 'protocol', 'hardbal', 'merrickgarland', 'lmfaoo', 'theresamay', 'monstermay', 'dwpcrime', 'dwp', 'putuporshutup', 'callthevotealreadi', 'allsup', 'dickwe', 'betti', 'susansarandon', 'haa', 'looool', 'noos', 'anxieti', 'smile', 'prioriti', 'ouch', 'holli', 'wheb', 'sportscast', 'throgh', 'whack', 'liberalsunhing', 'epidem', 'campus', 'sorta', 'evict', 'impli', 'recordshav', 'doctor', 'nurs', 'goso', 'lurk', 'ruski', '21st', 'junke', 'product', 'committe', 'manufactur', 'shade', 'teenag', 'whomev', 'immigrantsileg', 'lieyour', 'beatin', 'con', 'supportersh', 'sum', 'unqualifi', 'craziest', 'meneith', 'amnesia', 'procrastin', 'maintain', 'chain', 'matrix', 'struggl', 'basi', 'stadium', 'fold', 'endanger', 'analog', 'clock', 'glanc', 'digit', 'egomaniac', '231', 'aikido', 'krav', 'kravmaga', 'doug', 'blanch', 'satisfi', 'vengeanc', 'toronto', 'debacl', 'ohhhhhh', 'crocodil', 'chin', 'champ', 'australia', 'fade', 'sunset', 'diatrib', 'uniti', 'marriag', 'jobyou', 'judgebut', 'influenc', 'epson', 'printer', 'radiat', 'gaga', 'immort', 'fairli', 'progun', 'iswhi', 'stricter', 'coo', 'newest', 'disarmthem', 'retent', 'clarifi', 'birth', 'flesh', 'reborn', 'sinless', 'salvat', 'debt', 'papaci', 'amenadiel', 'triangl', 'fingertip', 'beech', 'moan', '1960', 'grid', 'venom', 'soni', 'ikkk', '6al3', 'bta3in', 'disney', 'kida', 'ahhooo', 'entropi', 'nooooo', 'twtich', 'inner', 'iechicago', 'nuclearfamili', 'twill', 'gunsuch', 'soulal', 'calm', 'greatkeep', 'viewpoint', 'aspect', 'vitriol', 'demo', 'sickhold', 'greasi', 'cheesi', 'negarrrr', 'merchandis', 'zazzl', 'site', 'elsewher', 'hyster', 'mouthpiec', 'christineford', 'ccot', 'brettkavanaugh', 'whitewat', 'imper', 'pattern', 'revolt', 'dillusion', 'pollut', 'blown', 'french', 'soundtrack', 'dmed', 'votehimout', 'voteblu', 'votethemout', 'smhtweet', 'didntpeopl', 'hav', 'shat', 'valanc', 'stoppag', 'fema', 'maria', 'blot', 'dharmic', 'kashmiri', 'pandit', 'hinduphobia', 'cuter', 'tha', 'shhhh', 'rapid', 'eff', 'farmer', 'emma', 'gonzalez', 'idol', 'bisca', 'nelli', 'soit', 'cumm', 'inn', 'gtfo', 'rli', 'aboilish', 'dna', 'detain', 'greater', 'blanket', 'antiopenbord', 'bio', 'wench', 'drivel', 'chart', 'musiconli', 'wither', 'fig', 'prophet', 'danikaharrod', 'cutest', 'shitpost', 'tdp', 'jhdsfhjsg', 'spoiler', 'alert', 'episod', 'sanchez', 'shell', 'breakdown', 'recoveri', 'intelleg', 'slash', 'repeal', 'gutierri', '1s', 'savior', 'vanguard', 'wwgiwga', 'haaaaaa', 'transparencynow', 'secretth', 'seenliber', 'alphabet', 'largest', 'restor', 'bch', 'behar', 'muzzl', 'clone', 'heal', 'muelleriscomingforyoutoo', 'patheticlittlemanjr', 'matthew', 'syria', 'assad', 'nicer', 'gungrabb', 'mcenroethi', 'disturb', 'campu', 'flood', 'dumba', 'desancti', 'ambit', 'assaultharass', 'plagu', 'australian', 'klan', 'whateverittak', 'conservativesselfh', 'shun', 'arrogantli', 'misguidedoften', 'prospect', 'fatbastard', 'victor', 'misandri', 'jare', 'barbar', 'inclin', 'council', 'fieldh', 'brutalitysh', 'terroristsbut', 'overst', 'seeth', 'bhagwat', 'shakha', 'goon', 'boner', 'resembl', 'dweller', 'yah', 'tone', 'strip', 'spree', 'clownish', 'mandi', 'havin', 'grim', 'adventur', 'wheeew', 'lobe', 'inept', 'geno', 'ff', 'nflfreesunday', 'lowland', 'fuckingclass', 'hahahahahahasaid', 'mmm', 'dat', 'tweak', 'sneaki', 'bugger', 'thigh', 'downwiththedemocrat', 'democratsaredanger', 'loco', 'chose', 'liberalismisamentaldisord', 'squash', 'fuss', 'messiah', 'trusttheplan', 'joy', 'ann', 'coulter', 'abramoff', 'os', 'puertorican', 'thursdaymotiv', 'thisisamerica', 'deficit', 'branch', 'lynn', 'reckless', 'illlleg', 'michel', 'spill', 'rehabilit', 'toler', 'temperatur', 'unhappi', 'denial', 'stalkhunt', 'courtroom', 'circu', 'lookin', 'exhort', 'jackdorseyisabigot', 'emiss', 'mileag', 'twitterconversationsbut', 'womanw', 'prima', 'donna', 'nextgen', 'girlssh', 'shootingsmust', 'idioci', 'expectu', 'gunsensecandid', 'gotv', 'throwthemout', '5000', 'volt', 'rider', 'virgin', 'everyway', 'natzi', 'tihnk', 'erick', 'thinkeroverturn', 'core', 'excuseh', 'promin', 'backward', 'deaf', 'helen', 'keller', 'mastermind', 'syndic', 'boc', 'fakedrugwar', 'politico', 'egg', 'unseemli', '1000', 'typo', 'weigh', 'withdraw', 'tinderbox', 'ttt', 'expand', 'ant', '67', '17yearold', '53yearold', 'jurist', 'mere', 'clarifying\\xa0yet', 'reinforc', 'russiaputin', 'crazyth', 'paltri', 'exchang', 'patch', 'tech', 'sirmaga', 'skirt', 'crucifi', 'fuckoff', 'flabbi', 'tail', 'maga2018', 'hors', 'perv', 'length', 'herbut', 'rshe', 'timewhich', 'untrustworthi', 'xtc', 'rockstar', 'pummel', 'bentley', 'crate', 'occasion', 'flick', 'boss', '12', 'hotel', '9mm', 'p89', 'libertarian', 'slim', 'greatestthingsaboutthe90', 'treacher', 'benni', 'conspir', 'maggi', 'thatcher', 'deeper', 'sling', 'squabbl', '14th', 'faceti', 'columnist', 'perfidi', 'nuisanc', 'gon', 'crib', 'jet', 'jsjdhkdfhjfkfkhsjdhd', 'messsssss', 'colour', 'lane', 'blvd', 'avenu', 'dumpster', 'govon', 'forit', 'vid', 'usersstfu', 'delus', 'backer', 'deliveri', 'packag', 'wtaf', 'yeahh', 'nonvot', 'skew', 'hijack', 'decor', 'remark', 'ff8', 'wang', 'central', 'quaker', 'noe', 'radicalseveri', 'blacksbad', 'frighten', 'vitu', 'milk', 'drawn', 'larg', 'amor', 'bluf', 'thf', 'dash', 'berlin', 'persuad', 'trumpwash', 'lyingthi', 'wick', 'walkawayfromdemocratsnow', 'capitol', 'theatric', 'unbecom', 'rightist', 'bashthefash', 'smashfasc', 'coin', 'lover', 'chick', 'perjuri', 'schmooz', 'helsinki', 'frankoz', 'defundpb', 'fluffi', 'pride', 'pleasant', 'generalharri', 'orgsi', 'impact', 'hussein', 'caper', 'contravent', 'doom', 'collabor', 'royal', 'bloodlin', 'accid', 'whenev', 'whini', 'grief', 'relief', 'spirit', 'here', 'valeri', 'jarrett', 'steel', 'contamin', 'pedal', 'tpp', 'parliament', 'hellbent', 'bitten', 'libdemconf', 'myriad', 'esus', '11yr', 'confirmjudgekavanaughnow', 'senatorfeinstein', 'niggaz', 'victoria', 'sponsor', 'priori', 'poc', 'extrajudici', 'luigi', 'bound', 'categor', 'wild', 'hungri', 'indian', 'greatli', 'devianc', 'roymoor', 'jimjordan', 'markfoley', 'bobpackwood', 'donaldtrump', 'sonic', 'placat', 'leftiststerrorist', 'dickmat', 'flori', 'leah', 'stab', 'curti', 'kl', 'shehesh', 'lien', 'file', 'ia', 'tbere', 'robo', 'comrad', 'starbuck', 'charm', 'frequentand', 'decay', 'jimmi', 'avram', 'qanda', 'ssm', 'tbqh', 'liberti', 'faeri', 'franci', 'kavannah', 'workand', 'ashol', 'threatscan', 'shield', 'levin', 'candac', 'unbeat', 'frenzi', 'andsadli', 'milano', 'tt', 'weez', 'stoopid', 'constitutionh', 'daca', 'communistsactivistsantifaofaamp', 'incompat', 'wuscultureamp2felon', 'violenceampparticip', 'potus45ampdestroysovereignusausconstndemi', 'wmarxist', '4threichnwo', 'tyrannytreason', 'orgasim', 'inbox', '07405077156', 'whatsapp', 'intrus', 'curb', 'lawabid', 'greed', 'roseannebarr', 'hid', 'sunk', 'muslimbrotherhood', 'blacklivesmatt', 'pcliber', 'wakeup', 'guterriz', 'wherev', 'wire', 'seemingli', 'yen', 'reject', 'kanaugh', 'boi', '1968', 'innuendo', 'patrol', 'dramat', 'assumpt', 'streamer', 'verbal', 'ought', 'speed', 'biter', 'west', 'screech', 'gettimg', 'chao', 'signif', 'disclaim', 'necessarili', 'guard', 'vagina', 'rahm', 'emanuel', 'omen', 'bypass', 'cuck', 'dosomth', 'votethegopout', 'countryoverparti', 'neverforget', 'yee', 'haw', 'bakersfield', 'nospeakermccarthi', 'palpit', '510am', 'toldit', 'panti', 'unicorn', 'rainbow', 'puffi', 'feminazi', 'butyou', 'saidyou', 'pointless', 'rubbish', 'shamelessli', 'bo2', 'cod', 'thier', 'djt2', 'btwn', 'unfairli', 'codywilson', 'kap', 'scope', 'fedloc', 'fakir', 'buck', 'africa', 'bitchc', 'uwu', '2000', 'sisterhood', 'genitalia', 'ideal', 'newspap', 'eras', 'iguana', 'beetl', 'tessholliday', 'scienc', 'fuckernam', 'inappropri', 'administ', 'spam', 'telltal', 'chill', 'conservat', 'protectionist', 'attach', 'tyrant', 'cutdown', 'rightwing', 'tend', 'harwood', 'pen', 'unbias', '44', 'magnum', 'hormon', 'testosteron', 'ron', 'desanti', 'wer', 'whatsoev', 'sicker', 'yourmyour', 'wu', 'airforc', 'pb', 'documentari', 'inadequ', 'latter', 'altleft', 'thursday', 'om', 'domo', 'closern', 'sargon', 'fri', 'fawn', 'dave', 'gunright', '53', 'rightsgun', 'rehab', 'dud', 'scheer', 'christineblaseyford', 'weakrino', 'towrd', 'bil', 'fanniema', 'releasethetext', 'noredact', 'obamag', 'obamaknew', 'soooooound', 'rental', 'fairway', 'weekend', 'swore', 'josh', 'leia', 'hmmmm', 'cheater', 'breweri', 'afe', 'thiveri', 'ezra', 'cockroach', 'shone', 'grotesqu', 'idc', 'fuuun', 'lemm', 'floatin', 'downstream', 'horrorland', 'stufffor', 'baromet', 'bork', 'tootrump', 'noooooooo', 'extermin', 'jew', 'fash', 'roy', 'distant', 'bezo', 'bunni', 'drellenbrandt', 'melissa', 'medium', 'hasenpfeff', 'whoopin', 'prob', 'infertil', 'germ', 'apon', 'obfusc', 'craley', 'sexualmisconduct', 'indescret', 'mulligan', 'sshat', 'ilk', 'literalviol', 'phrase', 'wahh', 'turncoat', 'hazel', '1955', 'typhoon', 'cyclon', 'epithat', 'tyranni', 'wed', 'tryant', 'duli', 'tyrann', 'nevertrump', 'crew', 'deliv', 'conniv', 'bloodsuck', 'elv', 'undead', 'boatload', 'lmaoooooo', 'agit', 'dept', 'glare', 'embarass', 'highway', 'bike', 'screamer', 'galleri', 'childish', 'thumb', 'justsayin', 'fakeoutrag', 'lunaticleft', 'tempertantrum', 'reaserch', 'cdc', 'safer', 'orourk', 'barbequ', 'vegan', 'scone', 'biochem', 'lab', 'helmet', 'youin', 'imaginejust', 'variou', 'downtown', 'seattl', 'kyle', 'rout', 'matt', 'keen', 'nondemocraci', 'videograph']\n",
            "6681\n"
          ],
          "name": "stdout"
        }
      ]
    },
    {
      "metadata": {
        "colab_type": "code",
        "id": "14T5h_aaMBY_",
        "outputId": "27cb57b7-60e5-48c1-dc4b-d761e7ba7678",
        "colab": {
          "base_uri": "https://localhost:8080/",
          "height": 34
        }
      },
      "cell_type": "code",
      "source": [
        "word2idx = get_word2idx(tokenized_train_corpus, vocabulary)\n",
        "print(len(word2idx))"
      ],
      "execution_count": 21,
      "outputs": [
        {
          "output_type": "stream",
          "text": [
            "6682\n"
          ],
          "name": "stdout"
        }
      ]
    },
    {
      "metadata": {
        "colab_type": "code",
        "id": "nenApEbLNTih",
        "outputId": "88e6356c-afb1-436e-db42-7a5a534b15bb",
        "colab": {
          "base_uri": "https://localhost:8080/",
          "height": 34
        }
      },
      "cell_type": "code",
      "source": [
        "idx2word = get_idx2word(vocabulary)\n",
        "print(len(idx2word))"
      ],
      "execution_count": 22,
      "outputs": [
        {
          "output_type": "stream",
          "text": [
            "6681\n"
          ],
          "name": "stdout"
        }
      ]
    },
    {
      "metadata": {
        "colab_type": "code",
        "id": "EPUENzKZNiEU",
        "outputId": "438d7d8c-64bb-4280-e841-11072683341a",
        "colab": {
          "base_uri": "https://localhost:8080/",
          "height": 204
        }
      },
      "cell_type": "code",
      "source": [
        "sentences_lengths = [len(sentence) for sentence in tokenized_train_corpus]\n",
        "\n",
        "# sentences_lengths_all = [len(sentence) for sentence in tokenized_corpus]\n",
        "# CHECK IF THIS IS ALRIGHT\n",
        "max_len = np.max(np.array(sentences_lengths))\n",
        "print(max_len)\n",
        "\n",
        "train_sentences_tensor, train_labels_tensor = parse_input(tokenized_train_corpus, word2idx, train_labels, max_len)\n",
        "\n",
        "print(train_sentences_tensor)\n",
        "print(train_labels_tensor)\n",
        "\n",
        "print(train_sentences_tensor.shape)\n",
        "print(train_labels_tensor.shape)"
      ],
      "execution_count": 23,
      "outputs": [
        {
          "output_type": "stream",
          "text": [
            "74\n",
            "tensor([[   1,    2,    3,  ...,    0,    0,    0],\n",
            "        [   1,    6,    7,  ...,    0,    0,    0],\n",
            "        [   1,   34,   35,  ...,    0,    0,    0],\n",
            "        ...,\n",
            "        [   1, 1009, 2484,  ...,    0,    0,    0],\n",
            "        [   1,    1,    1,  ...,    0,    0,    0],\n",
            "        [   1,  461,  868,  ...,    0,    0,    0]])\n",
            "tensor([0., 1., 1.,  ..., 0., 0., 0.])\n",
            "torch.Size([4680, 74])\n",
            "torch.Size([4680])\n"
          ],
          "name": "stdout"
        }
      ]
    },
    {
      "metadata": {
        "colab_type": "code",
        "id": "bPsqbxz6QAgA",
        "colab": {}
      },
      "cell_type": "code",
      "source": [
        "test_file = 'validation.tsv'\n",
        "test_corpus, test_labels = parse_dataset_task_b(test_file)"
      ],
      "execution_count": 0,
      "outputs": []
    },
    {
      "metadata": {
        "colab_type": "code",
        "id": "7IWSCEJ-uRAD",
        "colab": {}
      },
      "cell_type": "code",
      "source": [
        "def parse_in(tokenized_train_corpus, word2idx, labels, max_len):\n",
        "    # we index our sentences\n",
        "    vectorized_sentences = [[word2idx[token] for token in sentence if token in word2idx] for sentence in tokenized_train_corpus]\n",
        "    \n",
        "    # we create a tensor of a fixed size filled with zeroes for padding\n",
        "    sentences_tensor = Variable(torch.zeros((len(vectorized_sentences), max_len))).long()\n",
        "    sentences_lengths = [len(sentence) for sentence in vectorized_sentences]\n",
        "\n",
        "    # we fill it with our vectorized sentences \n",
        "    for idx, (sentence, sentence_len) in enumerate(zip(vectorized_sentences, sentences_lengths)):\n",
        "        sentences_tensor[idx, :sentence_len] = torch.LongTensor(sentence)\n",
        "            \n",
        "    labels_tensor = torch.FloatTensor(labels)\n",
        "\n",
        "    return sentences_tensor, labels_tensor"
      ],
      "execution_count": 0,
      "outputs": []
    },
    {
      "metadata": {
        "colab_type": "code",
        "id": "i7HDf0R4P3Mi",
        "colab": {}
      },
      "cell_type": "code",
      "source": [
        "tokenized_valid_corpus = tokenize_f(valid_corpus)\n",
        "\n",
        "valid_sentences_tensor, valid_labels_tensor = parse_in(tokenized_valid_corpus, word2idx, valid_labels, max_len)"
      ],
      "execution_count": 0,
      "outputs": []
    },
    {
      "metadata": {
        "colab_type": "code",
        "id": "co5cC1-xTx4S",
        "colab": {}
      },
      "cell_type": "code",
      "source": [
        "tokenized_test_corpus = tokenize_f(test_corpus)\n",
        "test_sentences_tensor, test_labels_tensor = parse_input(tokenized_test_corpus, word2idx, test_labels, max_len)"
      ],
      "execution_count": 0,
      "outputs": []
    },
    {
      "metadata": {
        "colab_type": "code",
        "id": "c9GPEYBZrTys",
        "colab": {}
      },
      "cell_type": "code",
      "source": [
        "def train_model_custom(model, optimizer, loss_fn, feature_train, target_train, feature_valid, target_valid, feature_test, target_test):    \n",
        "    for epoch in range(epochs):\n",
        "        model.train()\n",
        "        optimizer.zero_grad()\n",
        "        predictions = model(feature_train).squeeze(1)\n",
        "        loss = loss_fn(predictions, target_train)\n",
        "        acc = accuracy(predictions, target_train)\n",
        "        loss.backward()\n",
        "        optimizer.step()\n",
        "\n",
        "        epoch_loss = loss.item()\n",
        "        epoch_acc = acc\n",
        "  \n",
        "        model.eval()\n",
        "  \n",
        "        with torch.no_grad():\n",
        "\n",
        "            predictions_valid = model(feature_valid).squeeze(1)\n",
        "            loss = loss_fn(predictions_valid, target_valid)\n",
        "            acc = accuracy(predictions_valid, target_valid)\n",
        "            valid_loss = loss.item()\n",
        "            valid_acc = acc\n",
        "\n",
        "        print(f'| Epoch: {epoch:02} | Train Loss: {epoch_loss:.3f} | Train Acc: {epoch_acc*100:.2f}% | Val. Loss: {valid_loss:.3f} | Val. Acc: {valid_acc*100:.2f}% |')\n",
        "    \n",
        "    model.eval()\n",
        "\n",
        "    with torch.no_grad():\n",
        " \n",
        "        predictions = model(feature_test).squeeze(1)\n",
        "        u = torch.FloatTensor(target_test)\n",
        "        loss = loss_fn(predictions, u)\n",
        "        acc = accuracy(predictions, u)\n",
        "        print(f'| Test Loss: {loss:.3f} | Test Acc: {acc*100:.2f}%')\n",
        "        f_measure(predictions, target_test)\n",
        "\n",
        "    print(np.count_nonzero(target_test))"
      ],
      "execution_count": 0,
      "outputs": []
    },
    {
      "metadata": {
        "colab_type": "code",
        "id": "PTTWtDn1PNNw",
        "outputId": "2bdf154b-52f6-48ef-b0ac-c05cd5dd8a5e",
        "colab": {
          "base_uri": "https://localhost:8080/",
          "height": 1822
        }
      },
      "cell_type": "code",
      "source": [
        "epochs=100\n",
        "\n",
        "INPUT_DIM = len(word2idx)\n",
        "\n",
        "EMBEDDING_DIM = 100\n",
        "OUTPUT_DIM = 1\n",
        "LEARNING_RATE = 0.0008\n",
        "\n",
        "# the hyperparamerts specific to CNN\n",
        "# we define the number of filters\n",
        "N_OUT_CHANNELS = 100\n",
        "# we define the window size\n",
        "WINDOW_SIZE = 2\n",
        "# we apply the dropout with the probability 0.5\n",
        "DROPOUT = 0.5\n",
        "\n",
        "model = CNN(INPUT_DIM, EMBEDDING_DIM, N_OUT_CHANNELS, WINDOW_SIZE, OUTPUT_DIM, DROPOUT)\n",
        "\n",
        "optimizer = optim.Adam(model.parameters(), lr=LEARNING_RATE)\n",
        "loss_fn = nn.BCEWithLogitsLoss()\n",
        "\n",
        "train_model_custom(model, optimizer, loss_fn, train_sentences_tensor, train_labels_tensor, valid_sentences_tensor, valid_labels_tensor, test_sentences_tensor, test_labels)"
      ],
      "execution_count": 29,
      "outputs": [
        {
          "output_type": "stream",
          "text": [
            "| Epoch: 00 | Train Loss: 0.734 | Train Acc: 55.56% | Val. Loss: 0.700 | Val. Acc: 52.93% |\n",
            "| Epoch: 01 | Train Loss: 0.714 | Train Acc: 55.66% | Val. Loss: 0.684 | Val. Acc: 55.50% |\n",
            "| Epoch: 02 | Train Loss: 0.702 | Train Acc: 55.62% | Val. Loss: 0.678 | Val. Acc: 58.69% |\n",
            "| Epoch: 03 | Train Loss: 0.682 | Train Acc: 57.52% | Val. Loss: 0.674 | Val. Acc: 59.19% |\n",
            "| Epoch: 04 | Train Loss: 0.689 | Train Acc: 57.20% | Val. Loss: 0.672 | Val. Acc: 58.83% |\n",
            "| Epoch: 05 | Train Loss: 0.679 | Train Acc: 58.25% | Val. Loss: 0.672 | Val. Acc: 59.82% |\n",
            "| Epoch: 06 | Train Loss: 0.670 | Train Acc: 60.41% | Val. Loss: 0.672 | Val. Acc: 60.09% |\n",
            "| Epoch: 07 | Train Loss: 0.654 | Train Acc: 61.39% | Val. Loss: 0.674 | Val. Acc: 58.38% |\n",
            "| Epoch: 08 | Train Loss: 0.660 | Train Acc: 60.96% | Val. Loss: 0.677 | Val. Acc: 58.60% |\n",
            "| Epoch: 09 | Train Loss: 0.647 | Train Acc: 62.93% | Val. Loss: 0.678 | Val. Acc: 58.65% |\n",
            "| Epoch: 10 | Train Loss: 0.641 | Train Acc: 64.25% | Val. Loss: 0.679 | Val. Acc: 57.79% |\n",
            "| Epoch: 11 | Train Loss: 0.642 | Train Acc: 63.50% | Val. Loss: 0.678 | Val. Acc: 58.60% |\n",
            "| Epoch: 12 | Train Loss: 0.632 | Train Acc: 65.77% | Val. Loss: 0.676 | Val. Acc: 58.92% |\n",
            "| Epoch: 13 | Train Loss: 0.627 | Train Acc: 65.41% | Val. Loss: 0.673 | Val. Acc: 59.41% |\n",
            "| Epoch: 14 | Train Loss: 0.623 | Train Acc: 66.26% | Val. Loss: 0.670 | Val. Acc: 60.59% |\n",
            "| Epoch: 15 | Train Loss: 0.616 | Train Acc: 66.58% | Val. Loss: 0.667 | Val. Acc: 60.41% |\n",
            "| Epoch: 16 | Train Loss: 0.604 | Train Acc: 67.67% | Val. Loss: 0.665 | Val. Acc: 61.13% |\n",
            "| Epoch: 17 | Train Loss: 0.597 | Train Acc: 68.55% | Val. Loss: 0.662 | Val. Acc: 60.77% |\n",
            "| Epoch: 18 | Train Loss: 0.600 | Train Acc: 67.69% | Val. Loss: 0.661 | Val. Acc: 61.40% |\n",
            "| Epoch: 19 | Train Loss: 0.592 | Train Acc: 68.80% | Val. Loss: 0.660 | Val. Acc: 61.71% |\n",
            "| Epoch: 20 | Train Loss: 0.592 | Train Acc: 69.19% | Val. Loss: 0.659 | Val. Acc: 61.85% |\n",
            "| Epoch: 21 | Train Loss: 0.580 | Train Acc: 70.64% | Val. Loss: 0.659 | Val. Acc: 61.49% |\n",
            "| Epoch: 22 | Train Loss: 0.584 | Train Acc: 69.76% | Val. Loss: 0.659 | Val. Acc: 61.67% |\n",
            "| Epoch: 23 | Train Loss: 0.574 | Train Acc: 71.58% | Val. Loss: 0.659 | Val. Acc: 61.44% |\n",
            "| Epoch: 24 | Train Loss: 0.567 | Train Acc: 72.50% | Val. Loss: 0.660 | Val. Acc: 61.58% |\n",
            "| Epoch: 25 | Train Loss: 0.568 | Train Acc: 71.82% | Val. Loss: 0.660 | Val. Acc: 61.89% |\n",
            "| Epoch: 26 | Train Loss: 0.561 | Train Acc: 72.33% | Val. Loss: 0.661 | Val. Acc: 61.35% |\n",
            "| Epoch: 27 | Train Loss: 0.556 | Train Acc: 72.48% | Val. Loss: 0.661 | Val. Acc: 61.35% |\n",
            "| Epoch: 28 | Train Loss: 0.551 | Train Acc: 73.33% | Val. Loss: 0.661 | Val. Acc: 61.53% |\n",
            "| Epoch: 29 | Train Loss: 0.543 | Train Acc: 74.27% | Val. Loss: 0.660 | Val. Acc: 61.71% |\n",
            "| Epoch: 30 | Train Loss: 0.538 | Train Acc: 74.36% | Val. Loss: 0.660 | Val. Acc: 61.13% |\n",
            "| Epoch: 31 | Train Loss: 0.536 | Train Acc: 76.35% | Val. Loss: 0.660 | Val. Acc: 61.08% |\n",
            "| Epoch: 32 | Train Loss: 0.531 | Train Acc: 75.58% | Val. Loss: 0.659 | Val. Acc: 61.31% |\n",
            "| Epoch: 33 | Train Loss: 0.526 | Train Acc: 75.90% | Val. Loss: 0.659 | Val. Acc: 61.67% |\n",
            "| Epoch: 34 | Train Loss: 0.515 | Train Acc: 77.26% | Val. Loss: 0.658 | Val. Acc: 62.16% |\n",
            "| Epoch: 35 | Train Loss: 0.516 | Train Acc: 76.71% | Val. Loss: 0.658 | Val. Acc: 62.07% |\n",
            "| Epoch: 36 | Train Loss: 0.511 | Train Acc: 77.20% | Val. Loss: 0.658 | Val. Acc: 62.07% |\n",
            "| Epoch: 37 | Train Loss: 0.511 | Train Acc: 76.92% | Val. Loss: 0.658 | Val. Acc: 61.71% |\n",
            "| Epoch: 38 | Train Loss: 0.501 | Train Acc: 78.10% | Val. Loss: 0.659 | Val. Acc: 61.31% |\n",
            "| Epoch: 39 | Train Loss: 0.498 | Train Acc: 78.78% | Val. Loss: 0.659 | Val. Acc: 61.44% |\n",
            "| Epoch: 40 | Train Loss: 0.500 | Train Acc: 77.50% | Val. Loss: 0.660 | Val. Acc: 61.67% |\n",
            "| Epoch: 41 | Train Loss: 0.485 | Train Acc: 78.78% | Val. Loss: 0.660 | Val. Acc: 61.67% |\n",
            "| Epoch: 42 | Train Loss: 0.483 | Train Acc: 79.08% | Val. Loss: 0.660 | Val. Acc: 61.98% |\n",
            "| Epoch: 43 | Train Loss: 0.476 | Train Acc: 80.09% | Val. Loss: 0.661 | Val. Acc: 61.94% |\n",
            "| Epoch: 44 | Train Loss: 0.478 | Train Acc: 79.74% | Val. Loss: 0.661 | Val. Acc: 61.89% |\n",
            "| Epoch: 45 | Train Loss: 0.474 | Train Acc: 79.76% | Val. Loss: 0.662 | Val. Acc: 61.89% |\n",
            "| Epoch: 46 | Train Loss: 0.464 | Train Acc: 80.06% | Val. Loss: 0.662 | Val. Acc: 61.94% |\n",
            "| Epoch: 47 | Train Loss: 0.460 | Train Acc: 81.35% | Val. Loss: 0.663 | Val. Acc: 61.89% |\n",
            "| Epoch: 48 | Train Loss: 0.453 | Train Acc: 81.67% | Val. Loss: 0.665 | Val. Acc: 61.89% |\n",
            "| Epoch: 49 | Train Loss: 0.449 | Train Acc: 81.92% | Val. Loss: 0.666 | Val. Acc: 61.94% |\n",
            "| Epoch: 50 | Train Loss: 0.444 | Train Acc: 82.33% | Val. Loss: 0.668 | Val. Acc: 61.58% |\n",
            "| Epoch: 51 | Train Loss: 0.441 | Train Acc: 82.37% | Val. Loss: 0.669 | Val. Acc: 61.67% |\n",
            "| Epoch: 52 | Train Loss: 0.437 | Train Acc: 82.74% | Val. Loss: 0.671 | Val. Acc: 61.62% |\n",
            "| Epoch: 53 | Train Loss: 0.426 | Train Acc: 83.87% | Val. Loss: 0.672 | Val. Acc: 61.58% |\n",
            "| Epoch: 54 | Train Loss: 0.427 | Train Acc: 82.91% | Val. Loss: 0.674 | Val. Acc: 61.58% |\n",
            "| Epoch: 55 | Train Loss: 0.425 | Train Acc: 83.03% | Val. Loss: 0.676 | Val. Acc: 61.62% |\n",
            "| Epoch: 56 | Train Loss: 0.418 | Train Acc: 83.29% | Val. Loss: 0.677 | Val. Acc: 61.58% |\n",
            "| Epoch: 57 | Train Loss: 0.418 | Train Acc: 83.35% | Val. Loss: 0.679 | Val. Acc: 61.31% |\n",
            "| Epoch: 58 | Train Loss: 0.407 | Train Acc: 84.25% | Val. Loss: 0.681 | Val. Acc: 61.31% |\n",
            "| Epoch: 59 | Train Loss: 0.404 | Train Acc: 84.59% | Val. Loss: 0.683 | Val. Acc: 61.31% |\n",
            "| Epoch: 60 | Train Loss: 0.400 | Train Acc: 84.91% | Val. Loss: 0.685 | Val. Acc: 61.26% |\n",
            "| Epoch: 61 | Train Loss: 0.399 | Train Acc: 85.19% | Val. Loss: 0.686 | Val. Acc: 61.26% |\n",
            "| Epoch: 62 | Train Loss: 0.391 | Train Acc: 84.98% | Val. Loss: 0.688 | Val. Acc: 61.26% |\n",
            "| Epoch: 63 | Train Loss: 0.379 | Train Acc: 85.96% | Val. Loss: 0.690 | Val. Acc: 61.26% |\n",
            "| Epoch: 64 | Train Loss: 0.377 | Train Acc: 86.09% | Val. Loss: 0.692 | Val. Acc: 61.22% |\n",
            "| Epoch: 65 | Train Loss: 0.378 | Train Acc: 85.68% | Val. Loss: 0.694 | Val. Acc: 61.26% |\n",
            "| Epoch: 66 | Train Loss: 0.364 | Train Acc: 86.56% | Val. Loss: 0.697 | Val. Acc: 61.08% |\n",
            "| Epoch: 67 | Train Loss: 0.367 | Train Acc: 87.01% | Val. Loss: 0.700 | Val. Acc: 61.04% |\n",
            "| Epoch: 68 | Train Loss: 0.354 | Train Acc: 87.84% | Val. Loss: 0.703 | Val. Acc: 60.81% |\n",
            "| Epoch: 69 | Train Loss: 0.348 | Train Acc: 87.61% | Val. Loss: 0.707 | Val. Acc: 60.90% |\n",
            "| Epoch: 70 | Train Loss: 0.355 | Train Acc: 86.90% | Val. Loss: 0.711 | Val. Acc: 60.86% |\n",
            "| Epoch: 71 | Train Loss: 0.343 | Train Acc: 87.99% | Val. Loss: 0.715 | Val. Acc: 60.81% |\n",
            "| Epoch: 72 | Train Loss: 0.346 | Train Acc: 87.69% | Val. Loss: 0.719 | Val. Acc: 60.63% |\n",
            "| Epoch: 73 | Train Loss: 0.342 | Train Acc: 87.95% | Val. Loss: 0.723 | Val. Acc: 60.59% |\n",
            "| Epoch: 74 | Train Loss: 0.335 | Train Acc: 88.10% | Val. Loss: 0.726 | Val. Acc: 60.63% |\n",
            "| Epoch: 75 | Train Loss: 0.329 | Train Acc: 88.01% | Val. Loss: 0.729 | Val. Acc: 60.68% |\n",
            "| Epoch: 76 | Train Loss: 0.326 | Train Acc: 88.53% | Val. Loss: 0.731 | Val. Acc: 60.41% |\n",
            "| Epoch: 77 | Train Loss: 0.321 | Train Acc: 89.04% | Val. Loss: 0.733 | Val. Acc: 60.41% |\n",
            "| Epoch: 78 | Train Loss: 0.311 | Train Acc: 89.51% | Val. Loss: 0.735 | Val. Acc: 60.36% |\n",
            "| Epoch: 79 | Train Loss: 0.311 | Train Acc: 89.36% | Val. Loss: 0.737 | Val. Acc: 60.36% |\n",
            "| Epoch: 80 | Train Loss: 0.308 | Train Acc: 89.06% | Val. Loss: 0.740 | Val. Acc: 60.14% |\n",
            "| Epoch: 81 | Train Loss: 0.313 | Train Acc: 88.76% | Val. Loss: 0.744 | Val. Acc: 60.14% |\n",
            "| Epoch: 82 | Train Loss: 0.298 | Train Acc: 90.24% | Val. Loss: 0.748 | Val. Acc: 60.23% |\n",
            "| Epoch: 83 | Train Loss: 0.296 | Train Acc: 90.53% | Val. Loss: 0.753 | Val. Acc: 60.27% |\n",
            "| Epoch: 84 | Train Loss: 0.293 | Train Acc: 90.15% | Val. Loss: 0.758 | Val. Acc: 60.27% |\n",
            "| Epoch: 85 | Train Loss: 0.282 | Train Acc: 90.79% | Val. Loss: 0.763 | Val. Acc: 59.91% |\n",
            "| Epoch: 86 | Train Loss: 0.291 | Train Acc: 90.26% | Val. Loss: 0.768 | Val. Acc: 59.95% |\n",
            "| Epoch: 87 | Train Loss: 0.280 | Train Acc: 90.41% | Val. Loss: 0.772 | Val. Acc: 60.00% |\n",
            "| Epoch: 88 | Train Loss: 0.279 | Train Acc: 90.15% | Val. Loss: 0.776 | Val. Acc: 59.82% |\n",
            "| Epoch: 89 | Train Loss: 0.274 | Train Acc: 90.79% | Val. Loss: 0.779 | Val. Acc: 59.77% |\n",
            "| Epoch: 90 | Train Loss: 0.271 | Train Acc: 90.96% | Val. Loss: 0.783 | Val. Acc: 59.19% |\n",
            "| Epoch: 91 | Train Loss: 0.268 | Train Acc: 91.15% | Val. Loss: 0.788 | Val. Acc: 58.96% |\n",
            "| Epoch: 92 | Train Loss: 0.262 | Train Acc: 91.15% | Val. Loss: 0.794 | Val. Acc: 59.01% |\n",
            "| Epoch: 93 | Train Loss: 0.265 | Train Acc: 91.00% | Val. Loss: 0.801 | Val. Acc: 59.19% |\n",
            "| Epoch: 94 | Train Loss: 0.256 | Train Acc: 91.54% | Val. Loss: 0.808 | Val. Acc: 59.23% |\n",
            "| Epoch: 95 | Train Loss: 0.244 | Train Acc: 92.44% | Val. Loss: 0.814 | Val. Acc: 59.28% |\n",
            "| Epoch: 96 | Train Loss: 0.247 | Train Acc: 91.99% | Val. Loss: 0.819 | Val. Acc: 59.32% |\n",
            "| Epoch: 97 | Train Loss: 0.241 | Train Acc: 92.35% | Val. Loss: 0.824 | Val. Acc: 59.91% |\n",
            "| Epoch: 98 | Train Loss: 0.244 | Train Acc: 91.71% | Val. Loss: 0.829 | Val. Acc: 59.91% |\n",
            "| Epoch: 99 | Train Loss: 0.233 | Train Acc: 92.69% | Val. Loss: 0.833 | Val. Acc: 59.86% |\n",
            "| Test Loss: 0.883 | Test Acc: 54.55%\n",
            "31\n",
            "Test: Recall: 0.82, Precision: 0.53, F-measure: 0.64\n",
            "\n",
            "38\n"
          ],
          "name": "stdout"
        }
      ]
    },
    {
      "metadata": {
        "id": "Zopk6JySeC0T",
        "colab_type": "code",
        "colab": {}
      },
      "cell_type": "code",
      "source": [
        "testing = read_csv('testset-taskb.tsv')\n",
        "\n",
        "tweets = [row['tweet'] for row in testing]\n",
        "tokenized_corpus = tokenize_f(tweets)\n",
        "\n",
        "test_tensor, labels_tensor = parse_input(tokenized_corpus, word2idx, test_labels, max_len)"
      ],
      "execution_count": 0,
      "outputs": []
    },
    {
      "metadata": {
        "id": "bKkNJY2weK20",
        "colab_type": "code",
        "colab": {
          "base_uri": "https://localhost:8080/",
          "height": 272
        },
        "outputId": "f3ab83b5-68fb-4fdd-97a1-0ef2e2e8538c"
      },
      "cell_type": "code",
      "source": [
        "predictions_test = model(test_tensor).squeeze(1)\n",
        "\n",
        "output = torch.round(torch.sigmoid(predictions_test))\n",
        "\n",
        "print(output)\n",
        "\n",
        "print(len(output))"
      ],
      "execution_count": 34,
      "outputs": [
        {
          "output_type": "stream",
          "text": [
            "tensor([1., 1., 0., 1., 1., 1., 1., 0., 1., 1., 1., 0., 1., 1., 1., 1., 0., 1.,\n",
            "        1., 1., 1., 1., 1., 1., 1., 1., 1., 1., 1., 1., 1., 1., 1., 1., 1., 1.,\n",
            "        1., 0., 1., 1., 1., 1., 1., 1., 1., 0., 1., 1., 1., 1., 1., 1., 1., 1.,\n",
            "        1., 1., 1., 1., 1., 1., 1., 1., 1., 1., 1., 1., 1., 1., 1., 1., 1., 1.,\n",
            "        1., 1., 1., 1., 1., 1., 1., 0., 1., 1., 1., 1., 1., 1., 1., 1., 1., 1.,\n",
            "        1., 1., 1., 1., 1., 1., 1., 1., 0., 1., 1., 0., 1., 1., 1., 1., 1., 1.,\n",
            "        1., 0., 0., 1., 1., 1., 0., 1., 1., 0., 1., 1., 1., 1., 0., 1., 1., 1.,\n",
            "        1., 1., 0., 1., 0., 1., 1., 1., 1., 1., 1., 0., 1., 1., 1., 1., 0., 1.,\n",
            "        1., 0., 0., 1., 1., 1., 1., 1., 1., 1., 1., 1., 0., 1., 1., 1., 1., 1.,\n",
            "        0., 1., 1., 1., 1., 1., 1., 1., 1., 1., 1., 0., 1., 1., 0., 1., 1., 1.,\n",
            "        0., 1., 1., 1., 1., 0., 1., 1., 1., 1., 1., 1., 1., 1., 1., 0., 1., 0.,\n",
            "        1., 1., 1., 1., 0., 1., 1., 1., 1., 1., 1., 1., 1., 1., 1., 1., 1., 1.,\n",
            "        1., 1., 0., 1., 1., 1., 1., 0., 1., 1., 1., 0., 1., 1., 1., 1., 1., 1.,\n",
            "        0., 1., 1., 1., 1., 0.], grad_fn=<RoundBackward>)\n",
            "240\n"
          ],
          "name": "stdout"
        }
      ]
    },
    {
      "metadata": {
        "id": "4yeFeoDpeNXc",
        "colab_type": "code",
        "colab": {}
      },
      "cell_type": "code",
      "source": [
        "ids = [row['id'] for row in testing]\n",
        "out = ['UNT' if e == 0 else 'TIN' for e in output.detach().numpy()]\n",
        "zipped = list(zip(ids, out))\n",
        "\n",
        "with open('predictions_task_b_split_augmentation.csv', \"w\") as f:\n",
        "    writer = csv.writer(f, dialect='excel')\n",
        "    for row in zipped:\n",
        "        writer.writerow(row)"
      ],
      "execution_count": 0,
      "outputs": []
    }
  ]
}